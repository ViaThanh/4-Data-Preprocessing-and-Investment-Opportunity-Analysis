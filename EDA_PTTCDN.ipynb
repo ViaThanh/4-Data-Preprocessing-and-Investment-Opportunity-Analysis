{
 "cells": [
  {
   "cell_type": "markdown",
   "metadata": {
    "id": "KXQcLV8jOBye"
   },
   "source": [
    "# Học phần : Phân tích dữ liệu cho tài chính (DAT709_232_1_D01)"
   ]
  },
  {
   "cell_type": "markdown",
   "metadata": {
    "id": "Aa5-W9VWOByi"
   },
   "source": [
    "# Đề tài 4 : Xây dựng mô hình phân tích cơ hội đầu tư\n",
    "## (Investment Opportunity Analysis - EDA)"
   ]
  },
  {
   "cell_type": "markdown",
   "metadata": {},
   "source": [
    "# Nhóm 12"
   ]
  },
  {
   "cell_type": "markdown",
   "metadata": {
    "id": "_CQ862xyOByi"
   },
   "source": [
    " || Tên | MSSV |Tổng % đóng góp |\n",
    " |:----------:|:--------------:|:----------:|:----------------:|\n",
    " |1| **Triệu Tuấn Vĩ**  |  030237210212  | 20%  |\n",
    " |2| **Lê Nhật Hoàn Vũ**|   030237210214  |  20% |\n",
    " |3| **Ngô Lê Trúc Vy** |   030237210217   |  20%  |\n",
    " |4| **Nguyễn Thanh Vy** |  030237210219   |  20%  |\n",
    " |5| **Nguyễn Lê Hải Yên** |   030237210222   |  20%  |\n",
    " || **** |     |  100%  |"
   ]
  },
  {
   "cell_type": "markdown",
   "metadata": {
    "_uuid": "6cce1ff3e27d0a9d8f99e2b42d5ce875f8838270",
    "id": "mXewYcYhOByk"
   },
   "source": [
    "# Tải dữ liệu và làm sạch"
   ]
  },
  {
   "cell_type": "code",
   "execution_count": 1,
   "metadata": {
    "id": "KL9u58ycOByk"
   },
   "outputs": [],
   "source": [
    "# Câu lệnh cài đặt các thư viện nếu Jupyter Notebook không có sẵn\n",
    "# !pip install numpy pandas matplotlib seaborn warnings"
   ]
  },
  {
   "cell_type": "code",
   "execution_count": 2,
   "metadata": {
    "_uuid": "74685c3129a62ab95a4d0003941827a82c0a0fbf",
    "id": "EyWOfNNzOByl"
   },
   "outputs": [],
   "source": [
    "# Cài đặt các thư viện\n",
    "import numpy as np\n",
    "import pandas as pd\n",
    "import matplotlib.pyplot as plt\n",
    "import seaborn as sns"
   ]
  },
  {
   "cell_type": "code",
   "execution_count": 3,
   "metadata": {
    "id": "iVf5-h33OBym"
   },
   "outputs": [],
   "source": [
    "# Cài đặt thư viện để tắt thông báo cảnh báo (warnings) khi thực thi mã lệnh\n",
    "import warnings\n",
    "warnings.filterwarnings('ignore')"
   ]
  },
  {
   "cell_type": "markdown",
   "metadata": {
    "_uuid": "d362d31a0d0a4b64c46bbbdd00cae9734ddd4399",
    "id": "48qbNqvcOBym"
   },
   "source": [
    "##  Tải và thống kê dữ liệu"
   ]
  },
  {
   "cell_type": "code",
   "execution_count": 4,
   "metadata": {
    "_uuid": "17ed1035b0d2a73f65cad96e29b4e6ad36a374b9",
    "colab": {
     "base_uri": "https://localhost:8080/"
    },
    "id": "ZgnzCXUCOByn",
    "outputId": "4d1084ec-364d-4c82-b23a-da86ddb08ab6"
   },
   "outputs": [
    {
     "name": "stdout",
     "output_type": "stream",
     "text": [
      "['companies.txt', 'mapping.csv', 'rounds2.csv']\n"
     ]
    }
   ],
   "source": [
    "# Đặt thư mục làm việc đến vị trí cần thiết\n",
    "import os\n",
    "print(os.listdir('D:/DE TAI 4'))"
   ]
  },
  {
   "cell_type": "code",
   "execution_count": 5,
   "metadata": {
    "_uuid": "31bee1996b71bedda021b4dda49a1d860d3d3aa8",
    "id": "q_6ItOHWOByo"
   },
   "outputs": [],
   "source": [
    "# Đọc file dữ liệu\n",
    "# pd.read_csv : phương thức đọc file văn bản\n",
    "# encoding ISO-8859-1 là kiểu mã hóa sử dụng trong file văn bản để tránh lỗi mã hóa pandas\n",
    "# sử dụng sep là '\\t' cho tệp txt\n",
    "companies = pd.DataFrame(pd.read_csv('D:/DE TAI 4/companies.txt', sep='\\t', encoding = 'ISO-8859-1'))"
   ]
  },
  {
   "cell_type": "code",
   "execution_count": 6,
   "metadata": {
    "colab": {
     "base_uri": "https://localhost:8080/"
    },
    "id": "5hnyf5E8OByo",
    "outputId": "b9f8460c-dda0-454d-b4ef-2e4f490ed54a"
   },
   "outputs": [
    {
     "name": "stdout",
     "output_type": "stream",
     "text": [
      "<class 'pandas.core.frame.DataFrame'>\n",
      "RangeIndex: 66368 entries, 0 to 66367\n",
      "Data columns (total 10 columns):\n",
      " #   Column         Non-Null Count  Dtype \n",
      "---  ------         --------------  ----- \n",
      " 0   permalink      66368 non-null  object\n",
      " 1   name           66367 non-null  object\n",
      " 2   homepage_url   61310 non-null  object\n",
      " 3   category_list  63220 non-null  object\n",
      " 4   status         66368 non-null  object\n",
      " 5   country_code   59410 non-null  object\n",
      " 6   state_code     57821 non-null  object\n",
      " 7   region         58338 non-null  object\n",
      " 8   city           58340 non-null  object\n",
      " 9   founded_at     51147 non-null  object\n",
      "dtypes: object(10)\n",
      "memory usage: 5.1+ MB\n"
     ]
    }
   ],
   "source": [
    "# Tổng quan về dữ liệu trong tệp companies\n",
    "companies.info()"
   ]
  },
  {
   "cell_type": "code",
   "execution_count": 7,
   "metadata": {
    "colab": {
     "base_uri": "https://localhost:8080/",
     "height": 175
    },
    "id": "rIa2_nRgOByp",
    "outputId": "7e1e39de-1304-47a4-c2cc-64e579681079"
   },
   "outputs": [
    {
     "data": {
      "text/html": [
       "<div>\n",
       "<style scoped>\n",
       "    .dataframe tbody tr th:only-of-type {\n",
       "        vertical-align: middle;\n",
       "    }\n",
       "\n",
       "    .dataframe tbody tr th {\n",
       "        vertical-align: top;\n",
       "    }\n",
       "\n",
       "    .dataframe thead th {\n",
       "        text-align: right;\n",
       "    }\n",
       "</style>\n",
       "<table border=\"1\" class=\"dataframe\">\n",
       "  <thead>\n",
       "    <tr style=\"text-align: right;\">\n",
       "      <th></th>\n",
       "      <th>permalink</th>\n",
       "      <th>name</th>\n",
       "      <th>homepage_url</th>\n",
       "      <th>category_list</th>\n",
       "      <th>status</th>\n",
       "      <th>country_code</th>\n",
       "      <th>state_code</th>\n",
       "      <th>region</th>\n",
       "      <th>city</th>\n",
       "      <th>founded_at</th>\n",
       "    </tr>\n",
       "  </thead>\n",
       "  <tbody>\n",
       "    <tr>\n",
       "      <th>count</th>\n",
       "      <td>66368</td>\n",
       "      <td>66367</td>\n",
       "      <td>61310</td>\n",
       "      <td>63220</td>\n",
       "      <td>66368</td>\n",
       "      <td>59410</td>\n",
       "      <td>57821</td>\n",
       "      <td>58338</td>\n",
       "      <td>58340</td>\n",
       "      <td>51147</td>\n",
       "    </tr>\n",
       "    <tr>\n",
       "      <th>unique</th>\n",
       "      <td>66368</td>\n",
       "      <td>66102</td>\n",
       "      <td>61191</td>\n",
       "      <td>27296</td>\n",
       "      <td>4</td>\n",
       "      <td>137</td>\n",
       "      <td>311</td>\n",
       "      <td>1092</td>\n",
       "      <td>5111</td>\n",
       "      <td>3978</td>\n",
       "    </tr>\n",
       "    <tr>\n",
       "      <th>top</th>\n",
       "      <td>/Organization/-Fame</td>\n",
       "      <td>Blink</td>\n",
       "      <td>http://www.askforoffer.com</td>\n",
       "      <td>Software</td>\n",
       "      <td>operating</td>\n",
       "      <td>USA</td>\n",
       "      <td>CA</td>\n",
       "      <td>SF Bay Area</td>\n",
       "      <td>San Francisco</td>\n",
       "      <td>01-01-2012</td>\n",
       "    </tr>\n",
       "    <tr>\n",
       "      <th>freq</th>\n",
       "      <td>1</td>\n",
       "      <td>4</td>\n",
       "      <td>5</td>\n",
       "      <td>3995</td>\n",
       "      <td>53034</td>\n",
       "      <td>37601</td>\n",
       "      <td>12900</td>\n",
       "      <td>8804</td>\n",
       "      <td>3526</td>\n",
       "      <td>2730</td>\n",
       "    </tr>\n",
       "  </tbody>\n",
       "</table>\n",
       "</div>"
      ],
      "text/plain": [
       "                  permalink   name                homepage_url category_list  \\\n",
       "count                 66368  66367                       61310         63220   \n",
       "unique                66368  66102                       61191         27296   \n",
       "top     /Organization/-Fame  Blink  http://www.askforoffer.com      Software   \n",
       "freq                      1      4                           5          3995   \n",
       "\n",
       "           status country_code state_code       region           city  \\\n",
       "count       66368        59410      57821        58338          58340   \n",
       "unique          4          137        311         1092           5111   \n",
       "top     operating          USA         CA  SF Bay Area  San Francisco   \n",
       "freq        53034        37601      12900         8804           3526   \n",
       "\n",
       "        founded_at  \n",
       "count        51147  \n",
       "unique        3978  \n",
       "top     01-01-2012  \n",
       "freq          2730  "
      ]
     },
     "execution_count": 7,
     "metadata": {},
     "output_type": "execute_result"
    }
   ],
   "source": [
    "# Xem thống kê dataframe companies\n",
    "companies.describe()"
   ]
  },
  {
   "cell_type": "markdown",
   "metadata": {
    "id": "R8rO6aU_QO12"
   },
   "source": [
    "Ta có :\n",
    "+ cột permalink có tất cả 66368 các hàng có giá trị duy nhất\n",
    "+ 27296 loại công ty nhận đầu tư\n",
    "+ 137 quốc gia và trong đó có 311 tiểu bang nhận đầu tư"
   ]
  },
  {
   "cell_type": "code",
   "execution_count": 8,
   "metadata": {
    "_uuid": "31bee1996b71bedda021b4dda49a1d860d3d3aa8",
    "id": "tDEQMi-IOByp"
   },
   "outputs": [],
   "source": [
    "# Đọc file csv rounds2 thành 1 dataframe\n",
    "rounds2 = pd.DataFrame(pd.read_csv( 'D:/DE TAI 4/rounds2.csv', encoding = 'ISO-8859-1'))"
   ]
  },
  {
   "cell_type": "code",
   "execution_count": 9,
   "metadata": {
    "colab": {
     "base_uri": "https://localhost:8080/"
    },
    "id": "N1XSSt0QOByp",
    "outputId": "cfdb945b-1bb5-4a1f-87dd-40f6c026cd4c"
   },
   "outputs": [
    {
     "name": "stdout",
     "output_type": "stream",
     "text": [
      "<class 'pandas.core.frame.DataFrame'>\n",
      "RangeIndex: 114949 entries, 0 to 114948\n",
      "Data columns (total 6 columns):\n",
      " #   Column                   Non-Null Count   Dtype  \n",
      "---  ------                   --------------   -----  \n",
      " 0   company_permalink        114949 non-null  object \n",
      " 1   funding_round_permalink  114949 non-null  object \n",
      " 2   funding_round_type       114949 non-null  object \n",
      " 3   funding_round_code       31140 non-null   object \n",
      " 4   funded_at                114949 non-null  object \n",
      " 5   raised_amount_usd        94959 non-null   float64\n",
      "dtypes: float64(1), object(5)\n",
      "memory usage: 5.3+ MB\n"
     ]
    }
   ],
   "source": [
    "# Tổng quan về dữ liệu trong tệp rounds2\n",
    "rounds2.info()"
   ]
  },
  {
   "cell_type": "code",
   "execution_count": 10,
   "metadata": {
    "_uuid": "bb73436ed7b1c078dcfd6e66da3f3708069059b8",
    "colab": {
     "base_uri": "https://localhost:8080/"
    },
    "id": "3pRKgYSFOByq",
    "outputId": "15aa3417-4ecc-4d1c-fd73-52b5ad6839cd"
   },
   "outputs": [
    {
     "name": "stdout",
     "output_type": "stream",
     "text": [
      "Companies File:  (66368, 10)\n",
      "Rounds File:  (114949, 6)\n"
     ]
    }
   ],
   "source": [
    "# Kiểm tra shape của DataFrames\n",
    "print('Companies File: ', companies.shape)\n",
    "print('Rounds File: ', rounds2.shape)"
   ]
  },
  {
   "cell_type": "code",
   "execution_count": 11,
   "metadata": {
    "colab": {
     "base_uri": "https://localhost:8080/",
     "height": 345
    },
    "id": "CgxYBocyOByq",
    "outputId": "8d1411bb-2818-4b09-d564-2f94be012c5d"
   },
   "outputs": [
    {
     "data": {
      "text/html": [
       "<div>\n",
       "<style scoped>\n",
       "    .dataframe tbody tr th:only-of-type {\n",
       "        vertical-align: middle;\n",
       "    }\n",
       "\n",
       "    .dataframe tbody tr th {\n",
       "        vertical-align: top;\n",
       "    }\n",
       "\n",
       "    .dataframe thead th {\n",
       "        text-align: right;\n",
       "    }\n",
       "</style>\n",
       "<table border=\"1\" class=\"dataframe\">\n",
       "  <thead>\n",
       "    <tr style=\"text-align: right;\">\n",
       "      <th></th>\n",
       "      <th>permalink</th>\n",
       "      <th>name</th>\n",
       "      <th>homepage_url</th>\n",
       "      <th>category_list</th>\n",
       "      <th>status</th>\n",
       "      <th>country_code</th>\n",
       "      <th>state_code</th>\n",
       "      <th>region</th>\n",
       "      <th>city</th>\n",
       "      <th>founded_at</th>\n",
       "    </tr>\n",
       "  </thead>\n",
       "  <tbody>\n",
       "    <tr>\n",
       "      <th>0</th>\n",
       "      <td>/Organization/-Fame</td>\n",
       "      <td>#fame</td>\n",
       "      <td>http://livfame.com</td>\n",
       "      <td>Media</td>\n",
       "      <td>operating</td>\n",
       "      <td>IND</td>\n",
       "      <td>16</td>\n",
       "      <td>Mumbai</td>\n",
       "      <td>Mumbai</td>\n",
       "      <td>NaN</td>\n",
       "    </tr>\n",
       "    <tr>\n",
       "      <th>1</th>\n",
       "      <td>/Organization/-Qounter</td>\n",
       "      <td>:Qounter</td>\n",
       "      <td>http://www.qounter.com</td>\n",
       "      <td>Application Platforms|Real Time|Social Network...</td>\n",
       "      <td>operating</td>\n",
       "      <td>USA</td>\n",
       "      <td>DE</td>\n",
       "      <td>DE - Other</td>\n",
       "      <td>Delaware City</td>\n",
       "      <td>04-09-2014</td>\n",
       "    </tr>\n",
       "    <tr>\n",
       "      <th>2</th>\n",
       "      <td>/Organization/-The-One-Of-Them-Inc-</td>\n",
       "      <td>(THE) ONE of THEM,Inc.</td>\n",
       "      <td>http://oneofthem.jp</td>\n",
       "      <td>Apps|Games|Mobile</td>\n",
       "      <td>operating</td>\n",
       "      <td>NaN</td>\n",
       "      <td>NaN</td>\n",
       "      <td>NaN</td>\n",
       "      <td>NaN</td>\n",
       "      <td>NaN</td>\n",
       "    </tr>\n",
       "    <tr>\n",
       "      <th>3</th>\n",
       "      <td>/Organization/0-6-Com</td>\n",
       "      <td>0-6.com</td>\n",
       "      <td>http://www.0-6.com</td>\n",
       "      <td>Curated Web</td>\n",
       "      <td>operating</td>\n",
       "      <td>CHN</td>\n",
       "      <td>22</td>\n",
       "      <td>Beijing</td>\n",
       "      <td>Beijing</td>\n",
       "      <td>01-01-2007</td>\n",
       "    </tr>\n",
       "    <tr>\n",
       "      <th>4</th>\n",
       "      <td>/Organization/004-Technologies</td>\n",
       "      <td>004 Technologies</td>\n",
       "      <td>http://004gmbh.de/en/004-interact</td>\n",
       "      <td>Software</td>\n",
       "      <td>operating</td>\n",
       "      <td>USA</td>\n",
       "      <td>IL</td>\n",
       "      <td>Springfield, Illinois</td>\n",
       "      <td>Champaign</td>\n",
       "      <td>01-01-2010</td>\n",
       "    </tr>\n",
       "  </tbody>\n",
       "</table>\n",
       "</div>"
      ],
      "text/plain": [
       "                             permalink                    name  \\\n",
       "0                  /Organization/-Fame                   #fame   \n",
       "1               /Organization/-Qounter                :Qounter   \n",
       "2  /Organization/-The-One-Of-Them-Inc-  (THE) ONE of THEM,Inc.   \n",
       "3                /Organization/0-6-Com                 0-6.com   \n",
       "4       /Organization/004-Technologies        004 Technologies   \n",
       "\n",
       "                        homepage_url  \\\n",
       "0                 http://livfame.com   \n",
       "1             http://www.qounter.com   \n",
       "2                http://oneofthem.jp   \n",
       "3                 http://www.0-6.com   \n",
       "4  http://004gmbh.de/en/004-interact   \n",
       "\n",
       "                                       category_list     status country_code  \\\n",
       "0                                              Media  operating          IND   \n",
       "1  Application Platforms|Real Time|Social Network...  operating          USA   \n",
       "2                                  Apps|Games|Mobile  operating          NaN   \n",
       "3                                        Curated Web  operating          CHN   \n",
       "4                                           Software  operating          USA   \n",
       "\n",
       "  state_code                 region           city  founded_at  \n",
       "0         16                 Mumbai         Mumbai         NaN  \n",
       "1         DE             DE - Other  Delaware City  04-09-2014  \n",
       "2        NaN                    NaN            NaN         NaN  \n",
       "3         22                Beijing        Beijing  01-01-2007  \n",
       "4         IL  Springfield, Illinois      Champaign  01-01-2010  "
      ]
     },
     "execution_count": 11,
     "metadata": {},
     "output_type": "execute_result"
    }
   ],
   "source": [
    "# Các quan sát đầu tiên của tập dữ liệu companies\n",
    "companies.head()"
   ]
  },
  {
   "cell_type": "code",
   "execution_count": 12,
   "metadata": {
    "colab": {
     "base_uri": "https://localhost:8080/",
     "height": 293
    },
    "id": "n1iyC3lrOByq",
    "outputId": "13984d83-529f-4cf7-bf82-42be2c95a3e7"
   },
   "outputs": [
    {
     "data": {
      "text/html": [
       "<div>\n",
       "<style scoped>\n",
       "    .dataframe tbody tr th:only-of-type {\n",
       "        vertical-align: middle;\n",
       "    }\n",
       "\n",
       "    .dataframe tbody tr th {\n",
       "        vertical-align: top;\n",
       "    }\n",
       "\n",
       "    .dataframe thead th {\n",
       "        text-align: right;\n",
       "    }\n",
       "</style>\n",
       "<table border=\"1\" class=\"dataframe\">\n",
       "  <thead>\n",
       "    <tr style=\"text-align: right;\">\n",
       "      <th></th>\n",
       "      <th>company_permalink</th>\n",
       "      <th>funding_round_permalink</th>\n",
       "      <th>funding_round_type</th>\n",
       "      <th>funding_round_code</th>\n",
       "      <th>funded_at</th>\n",
       "      <th>raised_amount_usd</th>\n",
       "    </tr>\n",
       "  </thead>\n",
       "  <tbody>\n",
       "    <tr>\n",
       "      <th>0</th>\n",
       "      <td>/organization/-fame</td>\n",
       "      <td>/funding-round/9a01d05418af9f794eebff7ace91f638</td>\n",
       "      <td>venture</td>\n",
       "      <td>B</td>\n",
       "      <td>05-01-2015</td>\n",
       "      <td>10000000.0</td>\n",
       "    </tr>\n",
       "    <tr>\n",
       "      <th>1</th>\n",
       "      <td>/ORGANIZATION/-QOUNTER</td>\n",
       "      <td>/funding-round/22dacff496eb7acb2b901dec1dfe5633</td>\n",
       "      <td>venture</td>\n",
       "      <td>A</td>\n",
       "      <td>14-10-2014</td>\n",
       "      <td>NaN</td>\n",
       "    </tr>\n",
       "    <tr>\n",
       "      <th>2</th>\n",
       "      <td>/organization/-qounter</td>\n",
       "      <td>/funding-round/b44fbb94153f6cdef13083530bb48030</td>\n",
       "      <td>seed</td>\n",
       "      <td>NaN</td>\n",
       "      <td>01-03-2014</td>\n",
       "      <td>700000.0</td>\n",
       "    </tr>\n",
       "    <tr>\n",
       "      <th>3</th>\n",
       "      <td>/ORGANIZATION/-THE-ONE-OF-THEM-INC-</td>\n",
       "      <td>/funding-round/650b8f704416801069bb178a1418776b</td>\n",
       "      <td>venture</td>\n",
       "      <td>B</td>\n",
       "      <td>30-01-2014</td>\n",
       "      <td>3406878.0</td>\n",
       "    </tr>\n",
       "    <tr>\n",
       "      <th>4</th>\n",
       "      <td>/organization/0-6-com</td>\n",
       "      <td>/funding-round/5727accaeaa57461bd22a9bdd945382d</td>\n",
       "      <td>venture</td>\n",
       "      <td>A</td>\n",
       "      <td>19-03-2008</td>\n",
       "      <td>2000000.0</td>\n",
       "    </tr>\n",
       "  </tbody>\n",
       "</table>\n",
       "</div>"
      ],
      "text/plain": [
       "                     company_permalink  \\\n",
       "0                  /organization/-fame   \n",
       "1               /ORGANIZATION/-QOUNTER   \n",
       "2               /organization/-qounter   \n",
       "3  /ORGANIZATION/-THE-ONE-OF-THEM-INC-   \n",
       "4                /organization/0-6-com   \n",
       "\n",
       "                           funding_round_permalink funding_round_type  \\\n",
       "0  /funding-round/9a01d05418af9f794eebff7ace91f638            venture   \n",
       "1  /funding-round/22dacff496eb7acb2b901dec1dfe5633            venture   \n",
       "2  /funding-round/b44fbb94153f6cdef13083530bb48030               seed   \n",
       "3  /funding-round/650b8f704416801069bb178a1418776b            venture   \n",
       "4  /funding-round/5727accaeaa57461bd22a9bdd945382d            venture   \n",
       "\n",
       "  funding_round_code   funded_at  raised_amount_usd  \n",
       "0                  B  05-01-2015         10000000.0  \n",
       "1                  A  14-10-2014                NaN  \n",
       "2                NaN  01-03-2014           700000.0  \n",
       "3                  B  30-01-2014          3406878.0  \n",
       "4                  A  19-03-2008          2000000.0  "
      ]
     },
     "execution_count": 12,
     "metadata": {},
     "output_type": "execute_result"
    }
   ],
   "source": [
    "# Các quan sát đầu tiên của tập dữ liệu rounds2\n",
    "rounds2.head()"
   ]
  },
  {
   "cell_type": "markdown",
   "metadata": {
    "_uuid": "528468fa05cc861a4b55e0ff010c4b0977ea5cc3",
    "id": "Pnfuc79GOByq"
   },
   "source": [
    "## Làm sạch dữ liệu"
   ]
  },
  {
   "cell_type": "markdown",
   "metadata": {
    "id": "HLdEqHPsOByq"
   },
   "source": [
    "Cột permalink trong dataframe companies phải là khóa duy nhất của bảng, có 66368 tên công ty duy nhất (links hoặc permalinks). Ngoài ra, 66368 công ty này phải có trong file rounds2.\n",
    "\n",
    "Trước tiên, xác nhận rằng 66368 permalinks (là đường dẫn URL của trang web của các công ty) là duy nhất trong cột\\\n",
    "    a.  có trong companies DataFrame nhưng không có trong rounds2 DataFrame.\\\n",
    "    b.  có trong rounds2 DataFrame nhưng không có trong companies DataFrame."
   ]
  },
  {
   "cell_type": "code",
   "execution_count": 13,
   "metadata": {
    "id": "WPxnS8_UOByr"
   },
   "outputs": [],
   "source": [
    "# Chuyển đổi tất cả các permalink thành chữ thường (lowercase)\n",
    "companies['permalink'] = companies['permalink'].str.lower()\n",
    "rounds2['company_permalink'] = rounds2['company_permalink'].str.lower()"
   ]
  },
  {
   "cell_type": "code",
   "execution_count": 14,
   "metadata": {
    "colab": {
     "base_uri": "https://localhost:8080/"
    },
    "id": "YmuTFyreOByr",
    "outputId": "012127cc-a137-4083-d64d-2ee8440c62c0"
   },
   "outputs": [
    {
     "data": {
      "text/plain": [
       "66368"
      ]
     },
     "execution_count": 14,
     "metadata": {},
     "output_type": "execute_result"
    }
   ],
   "source": [
    "# Xác định số lượng permalinks duy nhất trong tập companies\n",
    "len(companies.permalink.unique())"
   ]
  },
  {
   "cell_type": "markdown",
   "metadata": {
    "_uuid": "e99fd740b5225d6e3468bf8bb486e30eed9aaa26",
    "id": "Qh_kDexrOByr"
   },
   "source": [
    "Do đó, có 66368 công ty duy nhất trong bảng và permalink là khóa chính duy nhất. Mỗi hàng đại diện cho một công ty duy nhất.\n",
    "\n",
    "Bây giờ kiểm tra xem tất cả 66368 công ty này có xuất hiện trong tệp rounds2 hay không và liệu có thêm một số nào không\n"
   ]
  },
  {
   "cell_type": "code",
   "execution_count": 15,
   "metadata": {
    "_uuid": "85ae923351d271edb5effb04c8411bdbb54edc0f",
    "colab": {
     "base_uri": "https://localhost:8080/"
    },
    "id": "1JVqcN-YOByr",
    "outputId": "a9cf1a87-e1cc-4984-a1e5-280d3f053c48"
   },
   "outputs": [
    {
     "data": {
      "text/plain": [
       "66370"
      ]
     },
     "execution_count": 15,
     "metadata": {},
     "output_type": "execute_result"
    }
   ],
   "source": [
    "# Xác định số lượng permalinks duy nhất trong tập companies rounds2\n",
    "len(rounds2.company_permalink.unique())"
   ]
  },
  {
   "cell_type": "markdown",
   "metadata": {
    "_uuid": "88ec8f76098dc2054ab10a8e824854f51e64b1b0",
    "id": "fSVSw50tOBys"
   },
   "source": [
    "Dường như có thêm 2 permalinks trong tệp rounds2 không có trong tệp companies.\n",
    "\n",
    "Chúng ta hãy xem các permalink của companies nằm trong tệp 'rounds2' nhưng không có trong 'companies'."
   ]
  },
  {
   "cell_type": "code",
   "execution_count": 16,
   "metadata": {
    "_uuid": "9e22e4764697bd11dd6263ee98fc8ba76d7df6d9",
    "colab": {
     "base_uri": "https://localhost:8080/",
     "height": 348
    },
    "id": "nnoOUXzWOBys",
    "outputId": "e3836f6a-1ab2-45b3-c8ec-8ca2d8fe8b93"
   },
   "outputs": [
    {
     "data": {
      "text/html": [
       "<div>\n",
       "<style scoped>\n",
       "    .dataframe tbody tr th:only-of-type {\n",
       "        vertical-align: middle;\n",
       "    }\n",
       "\n",
       "    .dataframe tbody tr th {\n",
       "        vertical-align: top;\n",
       "    }\n",
       "\n",
       "    .dataframe thead th {\n",
       "        text-align: right;\n",
       "    }\n",
       "</style>\n",
       "<table border=\"1\" class=\"dataframe\">\n",
       "  <thead>\n",
       "    <tr style=\"text-align: right;\">\n",
       "      <th></th>\n",
       "      <th>permalink</th>\n",
       "      <th>name</th>\n",
       "      <th>homepage_url</th>\n",
       "      <th>category_list</th>\n",
       "      <th>status</th>\n",
       "      <th>country_code</th>\n",
       "      <th>state_code</th>\n",
       "      <th>region</th>\n",
       "      <th>city</th>\n",
       "      <th>founded_at</th>\n",
       "    </tr>\n",
       "  </thead>\n",
       "  <tbody>\n",
       "    <tr>\n",
       "      <th>16827</th>\n",
       "      <td>/organization/e-cãbica</td>\n",
       "      <td>E CÃBICA</td>\n",
       "      <td>NaN</td>\n",
       "      <td>NaN</td>\n",
       "      <td>operating</td>\n",
       "      <td>NaN</td>\n",
       "      <td>NaN</td>\n",
       "      <td>NaN</td>\n",
       "      <td>NaN</td>\n",
       "      <td>NaN</td>\n",
       "    </tr>\n",
       "    <tr>\n",
       "      <th>18197</th>\n",
       "      <td>/organization/energystone-games-çµçÿ³æ¸¸æ</td>\n",
       "      <td>EnergyStone Games çµç³æ¸¸æ</td>\n",
       "      <td>NaN</td>\n",
       "      <td>Mobile Games|Online Gaming</td>\n",
       "      <td>closed</td>\n",
       "      <td>NaN</td>\n",
       "      <td>NaN</td>\n",
       "      <td>NaN</td>\n",
       "      <td>NaN</td>\n",
       "      <td>06-01-2013</td>\n",
       "    </tr>\n",
       "    <tr>\n",
       "      <th>26139</th>\n",
       "      <td>/organization/huizuche-com-æ ç§è½¦</td>\n",
       "      <td>Huizuche.com æ ç§è½¦</td>\n",
       "      <td>http://huizuche.com</td>\n",
       "      <td>NaN</td>\n",
       "      <td>closed</td>\n",
       "      <td>NaN</td>\n",
       "      <td>NaN</td>\n",
       "      <td>NaN</td>\n",
       "      <td>NaN</td>\n",
       "      <td>24-04-2014</td>\n",
       "    </tr>\n",
       "    <tr>\n",
       "      <th>58344</th>\n",
       "      <td>/organization/tipcat-interactive-æ²èä¿¡æ¯ç...</td>\n",
       "      <td>TipCat Interactive æ²èä¿¡æ¯ç§æ</td>\n",
       "      <td>http://www.tipcat.com</td>\n",
       "      <td>Mobile Games|Online Gaming</td>\n",
       "      <td>closed</td>\n",
       "      <td>NaN</td>\n",
       "      <td>NaN</td>\n",
       "      <td>NaN</td>\n",
       "      <td>NaN</td>\n",
       "      <td>18-08-2009</td>\n",
       "    </tr>\n",
       "    <tr>\n",
       "      <th>65778</th>\n",
       "      <td>/organization/zengame-ç¦",
       "æ¸¸ç§æ</td>\n",
       "      <td>ZenGame ç¦",
       "æ¸¸ç§æ</td>\n",
       "      <td>http://www.zen-game.com</td>\n",
       "      <td>Internet|Mobile Games|Online Gaming</td>\n",
       "      <td>closed</td>\n",
       "      <td>NaN</td>\n",
       "      <td>NaN</td>\n",
       "      <td>NaN</td>\n",
       "      <td>NaN</td>\n",
       "      <td>17-07-2010</td>\n",
       "    </tr>\n",
       "  </tbody>\n",
       "</table>\n",
       "</div>"
      ],
      "text/plain": [
       "                                               permalink  \\\n",
       "16827                            /organization/e-cãbica   \n",
       "18197       /organization/energystone-games-çµçÿ³æ¸¸æ   \n",
       "26139               /organization/huizuche-com-æ ç§è½¦   \n",
       "58344  /organization/tipcat-interactive-æ²èä¿¡æ¯ç...   \n",
       "65778                 /organization/zengame-ç¦\n",
       "æ¸¸ç§æ   \n",
       "\n",
       "                                        name             homepage_url  \\\n",
       "16827                              E CÃBICA                      NaN   \n",
       "18197         EnergyStone Games çµç³æ¸¸æ                      NaN   \n",
       "26139                 Huizuche.com æ ç§è½¦      http://huizuche.com   \n",
       "58344  TipCat Interactive æ²èä¿¡æ¯ç§æ    http://www.tipcat.com   \n",
       "65778                   ZenGame ç¦\n",
       "æ¸¸ç§æ  http://www.zen-game.com   \n",
       "\n",
       "                             category_list     status country_code state_code  \\\n",
       "16827                                  NaN  operating          NaN        NaN   \n",
       "18197           Mobile Games|Online Gaming     closed          NaN        NaN   \n",
       "26139                                  NaN     closed          NaN        NaN   \n",
       "58344           Mobile Games|Online Gaming     closed          NaN        NaN   \n",
       "65778  Internet|Mobile Games|Online Gaming     closed          NaN        NaN   \n",
       "\n",
       "      region city  founded_at  \n",
       "16827    NaN  NaN         NaN  \n",
       "18197    NaN  NaN  06-01-2013  \n",
       "26139    NaN  NaN  24-04-2014  \n",
       "58344    NaN  NaN  18-08-2009  \n",
       "65778    NaN  NaN  17-07-2010  "
      ]
     },
     "execution_count": 16,
     "metadata": {},
     "output_type": "execute_result"
    }
   ],
   "source": [
    "# Xác định giá trị thuộc cột permalink của df companies không nằm trong danh sách company_permalink của df rounds2\n",
    "companies.loc[~companies['permalink'].isin(rounds2['company_permalink']), :]"
   ]
  },
  {
   "cell_type": "code",
   "execution_count": 17,
   "metadata": {
    "colab": {
     "base_uri": "https://localhost:8080/",
     "height": 390
    },
    "id": "VESBgQUxOBys",
    "outputId": "8afe1f10-e252-4860-c915-9158dbaa793a"
   },
   "outputs": [
    {
     "data": {
      "text/html": [
       "<div>\n",
       "<style scoped>\n",
       "    .dataframe tbody tr th:only-of-type {\n",
       "        vertical-align: middle;\n",
       "    }\n",
       "\n",
       "    .dataframe tbody tr th {\n",
       "        vertical-align: top;\n",
       "    }\n",
       "\n",
       "    .dataframe thead th {\n",
       "        text-align: right;\n",
       "    }\n",
       "</style>\n",
       "<table border=\"1\" class=\"dataframe\">\n",
       "  <thead>\n",
       "    <tr style=\"text-align: right;\">\n",
       "      <th></th>\n",
       "      <th>company_permalink</th>\n",
       "      <th>funding_round_permalink</th>\n",
       "      <th>funding_round_type</th>\n",
       "      <th>funding_round_code</th>\n",
       "      <th>funded_at</th>\n",
       "      <th>raised_amount_usd</th>\n",
       "    </tr>\n",
       "  </thead>\n",
       "  <tbody>\n",
       "    <tr>\n",
       "      <th>29597</th>\n",
       "      <td>/organization/e-cãbica</td>\n",
       "      <td>/funding-round/8491f74869e4fe8ba9c378394f8fbdea</td>\n",
       "      <td>seed</td>\n",
       "      <td>NaN</td>\n",
       "      <td>01-02-2015</td>\n",
       "      <td>NaN</td>\n",
       "    </tr>\n",
       "    <tr>\n",
       "      <th>31863</th>\n",
       "      <td>/organization/energystone-games-çµç³æ¸¸æ</td>\n",
       "      <td>/funding-round/b89553f3d2279c5683ae93f45a21cfe0</td>\n",
       "      <td>seed</td>\n",
       "      <td>NaN</td>\n",
       "      <td>09-08-2014</td>\n",
       "      <td>NaN</td>\n",
       "    </tr>\n",
       "    <tr>\n",
       "      <th>45176</th>\n",
       "      <td>/organization/huizuche-com-æ ç§ÿè½¦</td>\n",
       "      <td>/funding-round/8f8a32dbeeb0f831a78702f83af78a36</td>\n",
       "      <td>seed</td>\n",
       "      <td>NaN</td>\n",
       "      <td>18-09-2014</td>\n",
       "      <td>NaN</td>\n",
       "    </tr>\n",
       "    <tr>\n",
       "      <th>58473</th>\n",
       "      <td>/organization/magnet-tech-ç£ç³ç§æ</td>\n",
       "      <td>/funding-round/8fc91fbb32bc95e97f151dd0cb4166bf</td>\n",
       "      <td>seed</td>\n",
       "      <td>NaN</td>\n",
       "      <td>16-08-2014</td>\n",
       "      <td>1625585.0</td>\n",
       "    </tr>\n",
       "    <tr>\n",
       "      <th>101036</th>\n",
       "      <td>/organization/tipcat-interactive-æ²èÿä¿¡æ¯ç...</td>\n",
       "      <td>/funding-round/41005928a1439cb2d706a43cb661f60f</td>\n",
       "      <td>seed</td>\n",
       "      <td>NaN</td>\n",
       "      <td>06-09-2010</td>\n",
       "      <td>NaN</td>\n",
       "    </tr>\n",
       "    <tr>\n",
       "      <th>109969</th>\n",
       "      <td>/organization/weiche-tech-åè½¦ç§æ</td>\n",
       "      <td>/funding-round/f74e457f838b81fa0b29649740f186d8</td>\n",
       "      <td>venture</td>\n",
       "      <td>A</td>\n",
       "      <td>06-09-2015</td>\n",
       "      <td>NaN</td>\n",
       "    </tr>\n",
       "    <tr>\n",
       "      <th>113839</th>\n",
       "      <td>/organization/zengame-ç¦",
       "æ¸¸ç§æ</td>\n",
       "      <td>/funding-round/6ba28fb4f3eadf5a9c6c81bc5dde6cdf</td>\n",
       "      <td>seed</td>\n",
       "      <td>NaN</td>\n",
       "      <td>17-07-2010</td>\n",
       "      <td>NaN</td>\n",
       "    </tr>\n",
       "  </tbody>\n",
       "</table>\n",
       "</div>"
      ],
      "text/plain": [
       "                                        company_permalink  \\\n",
       "29597                             /organization/e-cãbica   \n",
       "31863        /organization/energystone-games-çµç³æ¸¸æ   \n",
       "45176                /organization/huizuche-com-æ ç§ÿè½¦   \n",
       "58473              /organization/magnet-tech-ç£ç³ç§æ   \n",
       "101036  /organization/tipcat-interactive-æ²èÿä¿¡æ¯ç...   \n",
       "109969             /organization/weiche-tech-åè½¦ç§æ   \n",
       "113839                 /organization/zengame-ç¦\n",
       "æ¸¸ç§æ   \n",
       "\n",
       "                                funding_round_permalink funding_round_type  \\\n",
       "29597   /funding-round/8491f74869e4fe8ba9c378394f8fbdea               seed   \n",
       "31863   /funding-round/b89553f3d2279c5683ae93f45a21cfe0               seed   \n",
       "45176   /funding-round/8f8a32dbeeb0f831a78702f83af78a36               seed   \n",
       "58473   /funding-round/8fc91fbb32bc95e97f151dd0cb4166bf               seed   \n",
       "101036  /funding-round/41005928a1439cb2d706a43cb661f60f               seed   \n",
       "109969  /funding-round/f74e457f838b81fa0b29649740f186d8            venture   \n",
       "113839  /funding-round/6ba28fb4f3eadf5a9c6c81bc5dde6cdf               seed   \n",
       "\n",
       "       funding_round_code   funded_at  raised_amount_usd  \n",
       "29597                 NaN  01-02-2015                NaN  \n",
       "31863                 NaN  09-08-2014                NaN  \n",
       "45176                 NaN  18-09-2014                NaN  \n",
       "58473                 NaN  16-08-2014          1625585.0  \n",
       "101036                NaN  06-09-2010                NaN  \n",
       "109969                  A  06-09-2015                NaN  \n",
       "113839                NaN  17-07-2010                NaN  "
      ]
     },
     "execution_count": 17,
     "metadata": {},
     "output_type": "execute_result"
    }
   ],
   "source": [
    "# Xác định giá trị thuộc cột company_permalink của df rounds2 không nằm trong permalink của df companies\n",
    "rounds2.loc[~rounds2['company_permalink'].isin(companies['permalink']), :]"
   ]
  },
  {
   "cell_type": "markdown",
   "metadata": {
    "_uuid": "1ae4facc0cb140107c889905fd75374aff037011",
    "id": "Mxw4wKSIOBys"
   },
   "source": [
    "Các ký tự lạ trong companies xuất hiện khi nhập tệp dữ liệu. Để xác nhận xem các ký tự này có thực sự xuất hiện trong dữ liệu đã cho hay là python có đưa chúng vào khi nhập vào pandas hay không, ta xem tệp CSV gốc trong Excel.\n",
    "\n",
    "Vì vậy, rất có thể đây là sự cố về dữ liệu khi đọc tệp dữ liệu vào python. Cụ thể, điều này rất có thể xảy ra do mã hóa. (Do đó, companies df cũng chứa các ký tự đặc biệt. Ta xử lý dữ liệu)"
   ]
  },
  {
   "cell_type": "code",
   "execution_count": 18,
   "metadata": {
    "_uuid": "f2909d38d0630fc9ed52fc550f2b3aadfb51b6eb",
    "id": "knh-FOd6OByt"
   },
   "outputs": [],
   "source": [
    "# Loại bỏ encoding trong companies\n",
    "companies['permalink'] = companies.permalink.str.encode('utf-8').str.decode('ascii', 'ignore')\n",
    "companies['name'] = companies.name.str.encode('utf-8').str.decode('ascii', 'ignore')\n",
    "\n",
    "# Loại bỏ encoding trong rounds2\n",
    "rounds2['company_permalink'] = rounds2.company_permalink.str.encode('utf-8').str.decode('ascii', 'ignore')"
   ]
  },
  {
   "cell_type": "markdown",
   "metadata": {
    "_uuid": "b133e0868c376963ca93305f382b8a6fa20a3e81",
    "id": "mONcN7LUOByt"
   },
   "source": [
    "Bây giờ chúng ta hãy xem xét các công ty có mặt trong df companies nhưng không có trong df rounds2."
   ]
  },
  {
   "cell_type": "code",
   "execution_count": 19,
   "metadata": {
    "_uuid": "8b3877b2b28694a040d6e86e7b902f77c2b52d1f",
    "colab": {
     "base_uri": "https://localhost:8080/",
     "height": 53
    },
    "id": "2tUkBTJQOByt",
    "outputId": "ef73e70c-5c70-403e-ced3-59319cc2bb93"
   },
   "outputs": [
    {
     "data": {
      "text/html": [
       "<div>\n",
       "<style scoped>\n",
       "    .dataframe tbody tr th:only-of-type {\n",
       "        vertical-align: middle;\n",
       "    }\n",
       "\n",
       "    .dataframe tbody tr th {\n",
       "        vertical-align: top;\n",
       "    }\n",
       "\n",
       "    .dataframe thead th {\n",
       "        text-align: right;\n",
       "    }\n",
       "</style>\n",
       "<table border=\"1\" class=\"dataframe\">\n",
       "  <thead>\n",
       "    <tr style=\"text-align: right;\">\n",
       "      <th></th>\n",
       "      <th>permalink</th>\n",
       "      <th>name</th>\n",
       "      <th>homepage_url</th>\n",
       "      <th>category_list</th>\n",
       "      <th>status</th>\n",
       "      <th>country_code</th>\n",
       "      <th>state_code</th>\n",
       "      <th>region</th>\n",
       "      <th>city</th>\n",
       "      <th>founded_at</th>\n",
       "    </tr>\n",
       "  </thead>\n",
       "  <tbody>\n",
       "  </tbody>\n",
       "</table>\n",
       "</div>"
      ],
      "text/plain": [
       "Empty DataFrame\n",
       "Columns: [permalink, name, homepage_url, category_list, status, country_code, state_code, region, city, founded_at]\n",
       "Index: []"
      ]
     },
     "execution_count": 19,
     "metadata": {},
     "output_type": "execute_result"
    }
   ],
   "source": [
    "# Các công ty hiện diện trong bộ dữ liệu 'companies' nhưng không có trong bộ dữ liệu 'rounds2'\n",
    "companies.loc[~companies['permalink'].isin(rounds2['company_permalink']), :]"
   ]
  },
  {
   "cell_type": "code",
   "execution_count": 20,
   "metadata": {
    "_uuid": "4ae86cce01681aceb6979315b0ff47be7c5e121a",
    "colab": {
     "base_uri": "https://localhost:8080/"
    },
    "id": "31mkUx3eOByt",
    "outputId": "4507707b-d36a-4cb5-9d7e-39f89c32a6cf"
   },
   "outputs": [
    {
     "data": {
      "text/plain": [
       "66368"
      ]
     },
     "execution_count": 20,
     "metadata": {},
     "output_type": "execute_result"
    }
   ],
   "source": [
    "# Kiểm tra lại các giá trị duy nhất\n",
    "len(rounds2.company_permalink.unique())"
   ]
  },
  {
   "cell_type": "markdown",
   "metadata": {
    "_uuid": "375afd0dda3676bd925f1af9b2dee24c73e835b1",
    "id": "tt8RqusiOByt"
   },
   "source": [
    "Giờ thì điều đó đã hợp lý - có 66368 công ty duy nhất trong cả 2 dataframe rounds2 và companies\n",
    "\n",
    "Có thể vấn đề mã hóa tương tự cũng xuất hiện trong tệp companies."
   ]
  },
  {
   "cell_type": "code",
   "execution_count": 21,
   "metadata": {
    "_uuid": "18be4415d72d5108cd7a9239c8874b8c3e682897",
    "colab": {
     "base_uri": "https://localhost:8080/"
    },
    "id": "3hQozHDHOByt",
    "outputId": "25e653e5-43c7-44d2-934e-facde11845e6"
   },
   "outputs": [
    {
     "name": "stdout",
     "output_type": "stream",
     "text": [
      "66368\n",
      "66368\n",
      "0\n",
      "0\n"
     ]
    }
   ],
   "source": [
    "# Xác định 66368 giá trị duy nhất trong cả 2 dataframe companies và rounds2\n",
    "# xác định xác trị duy nhất\n",
    "print(len(companies.permalink.unique()))\n",
    "print(len(rounds2.company_permalink.unique()))\n",
    "\n",
    "# Xác định giá trị có trong companies nhưng không có trong rounds2\n",
    "print(len(rounds2.loc[~rounds2['company_permalink'].isin(companies['permalink']), :]))\n",
    "print(len(companies[~companies['permalink'].isin(rounds2['company_permalink'])]))"
   ]
  },
  {
   "cell_type": "markdown",
   "metadata": {
    "id": "BYB8X4wgOByu"
   },
   "source": [
    "## Xử lý dữ liệu bị thiếu"
   ]
  },
  {
   "cell_type": "code",
   "execution_count": 22,
   "metadata": {
    "_uuid": "2a88a1485c402466db45d822d45cce131488b99a",
    "colab": {
     "base_uri": "https://localhost:8080/"
    },
    "id": "ULnQLSEGOByu",
    "outputId": "d5f83b7c-e148-4976-f5df-ae5e7f8bddd3"
   },
   "outputs": [
    {
     "data": {
      "text/plain": [
       "permalink            0\n",
       "name                 1\n",
       "homepage_url      5058\n",
       "category_list     3148\n",
       "status               0\n",
       "country_code      6958\n",
       "state_code        8547\n",
       "region            8030\n",
       "city              8028\n",
       "founded_at       15221\n",
       "dtype: int64"
      ]
     },
     "execution_count": 22,
     "metadata": {},
     "output_type": "execute_result"
    }
   ],
   "source": [
    "# Kiểm tra giá trị bị thiếu trong dataframe companies\n",
    "companies.isnull().sum()"
   ]
  },
  {
   "cell_type": "code",
   "execution_count": 23,
   "metadata": {
    "_uuid": "23ce52680374ac724c2673f6c572cc022b963179",
    "colab": {
     "base_uri": "https://localhost:8080/"
    },
    "id": "dYkfp6qDOByu",
    "outputId": "402324e3-b92b-46ed-ad54-7a07833d635d",
    "scrolled": true
   },
   "outputs": [
    {
     "data": {
      "text/plain": [
       "company_permalink              0\n",
       "funding_round_permalink        0\n",
       "funding_round_type             0\n",
       "funding_round_code         83809\n",
       "funded_at                      0\n",
       "raised_amount_usd          19990\n",
       "dtype: int64"
      ]
     },
     "execution_count": 23,
     "metadata": {},
     "output_type": "execute_result"
    }
   ],
   "source": [
    "# Kiểm tra giá trị bị thiếu trong dataframe rounds2\n",
    "rounds2.isnull().sum()"
   ]
  },
  {
   "cell_type": "markdown",
   "metadata": {
    "_uuid": "55610b319dd59c7ea9586f230ce72f0ccc04bbb0",
    "id": "7188Of0EOByu"
   },
   "source": [
    "Vì không có giá trị nào bị thiếu trong các cột permalink hoặc company_permalink, hãy hợp nhất cả hai rồi làm việc trên master dataframe."
   ]
  },
  {
   "cell_type": "code",
   "execution_count": 24,
   "metadata": {
    "_uuid": "cf569a06d37e032f487ab056ed5fe61b1047fa5b",
    "colab": {
     "base_uri": "https://localhost:8080/",
     "height": 400
    },
    "id": "MkHEgxxUOBy3",
    "outputId": "e77dcc24-d91b-4d74-84b7-d949b7b110c5"
   },
   "outputs": [
    {
     "data": {
      "text/html": [
       "<div>\n",
       "<style scoped>\n",
       "    .dataframe tbody tr th:only-of-type {\n",
       "        vertical-align: middle;\n",
       "    }\n",
       "\n",
       "    .dataframe tbody tr th {\n",
       "        vertical-align: top;\n",
       "    }\n",
       "\n",
       "    .dataframe thead th {\n",
       "        text-align: right;\n",
       "    }\n",
       "</style>\n",
       "<table border=\"1\" class=\"dataframe\">\n",
       "  <thead>\n",
       "    <tr style=\"text-align: right;\">\n",
       "      <th></th>\n",
       "      <th>permalink</th>\n",
       "      <th>name</th>\n",
       "      <th>homepage_url</th>\n",
       "      <th>category_list</th>\n",
       "      <th>status</th>\n",
       "      <th>country_code</th>\n",
       "      <th>state_code</th>\n",
       "      <th>region</th>\n",
       "      <th>city</th>\n",
       "      <th>founded_at</th>\n",
       "      <th>company_permalink</th>\n",
       "      <th>funding_round_permalink</th>\n",
       "      <th>funding_round_type</th>\n",
       "      <th>funding_round_code</th>\n",
       "      <th>funded_at</th>\n",
       "      <th>raised_amount_usd</th>\n",
       "    </tr>\n",
       "  </thead>\n",
       "  <tbody>\n",
       "    <tr>\n",
       "      <th>0</th>\n",
       "      <td>/organization/-fame</td>\n",
       "      <td>#fame</td>\n",
       "      <td>http://livfame.com</td>\n",
       "      <td>Media</td>\n",
       "      <td>operating</td>\n",
       "      <td>IND</td>\n",
       "      <td>16</td>\n",
       "      <td>Mumbai</td>\n",
       "      <td>Mumbai</td>\n",
       "      <td>NaN</td>\n",
       "      <td>/organization/-fame</td>\n",
       "      <td>/funding-round/9a01d05418af9f794eebff7ace91f638</td>\n",
       "      <td>venture</td>\n",
       "      <td>B</td>\n",
       "      <td>05-01-2015</td>\n",
       "      <td>10000000.0</td>\n",
       "    </tr>\n",
       "    <tr>\n",
       "      <th>1</th>\n",
       "      <td>/organization/-qounter</td>\n",
       "      <td>:Qounter</td>\n",
       "      <td>http://www.qounter.com</td>\n",
       "      <td>Application Platforms|Real Time|Social Network...</td>\n",
       "      <td>operating</td>\n",
       "      <td>USA</td>\n",
       "      <td>DE</td>\n",
       "      <td>DE - Other</td>\n",
       "      <td>Delaware City</td>\n",
       "      <td>04-09-2014</td>\n",
       "      <td>/organization/-qounter</td>\n",
       "      <td>/funding-round/22dacff496eb7acb2b901dec1dfe5633</td>\n",
       "      <td>venture</td>\n",
       "      <td>A</td>\n",
       "      <td>14-10-2014</td>\n",
       "      <td>NaN</td>\n",
       "    </tr>\n",
       "    <tr>\n",
       "      <th>2</th>\n",
       "      <td>/organization/-qounter</td>\n",
       "      <td>:Qounter</td>\n",
       "      <td>http://www.qounter.com</td>\n",
       "      <td>Application Platforms|Real Time|Social Network...</td>\n",
       "      <td>operating</td>\n",
       "      <td>USA</td>\n",
       "      <td>DE</td>\n",
       "      <td>DE - Other</td>\n",
       "      <td>Delaware City</td>\n",
       "      <td>04-09-2014</td>\n",
       "      <td>/organization/-qounter</td>\n",
       "      <td>/funding-round/b44fbb94153f6cdef13083530bb48030</td>\n",
       "      <td>seed</td>\n",
       "      <td>NaN</td>\n",
       "      <td>01-03-2014</td>\n",
       "      <td>700000.0</td>\n",
       "    </tr>\n",
       "    <tr>\n",
       "      <th>3</th>\n",
       "      <td>/organization/-the-one-of-them-inc-</td>\n",
       "      <td>(THE) ONE of THEM,Inc.</td>\n",
       "      <td>http://oneofthem.jp</td>\n",
       "      <td>Apps|Games|Mobile</td>\n",
       "      <td>operating</td>\n",
       "      <td>NaN</td>\n",
       "      <td>NaN</td>\n",
       "      <td>NaN</td>\n",
       "      <td>NaN</td>\n",
       "      <td>NaN</td>\n",
       "      <td>/organization/-the-one-of-them-inc-</td>\n",
       "      <td>/funding-round/650b8f704416801069bb178a1418776b</td>\n",
       "      <td>venture</td>\n",
       "      <td>B</td>\n",
       "      <td>30-01-2014</td>\n",
       "      <td>3406878.0</td>\n",
       "    </tr>\n",
       "    <tr>\n",
       "      <th>4</th>\n",
       "      <td>/organization/0-6-com</td>\n",
       "      <td>0-6.com</td>\n",
       "      <td>http://www.0-6.com</td>\n",
       "      <td>Curated Web</td>\n",
       "      <td>operating</td>\n",
       "      <td>CHN</td>\n",
       "      <td>22</td>\n",
       "      <td>Beijing</td>\n",
       "      <td>Beijing</td>\n",
       "      <td>01-01-2007</td>\n",
       "      <td>/organization/0-6-com</td>\n",
       "      <td>/funding-round/5727accaeaa57461bd22a9bdd945382d</td>\n",
       "      <td>venture</td>\n",
       "      <td>A</td>\n",
       "      <td>19-03-2008</td>\n",
       "      <td>2000000.0</td>\n",
       "    </tr>\n",
       "  </tbody>\n",
       "</table>\n",
       "</div>"
      ],
      "text/plain": [
       "                             permalink                    name  \\\n",
       "0                  /organization/-fame                   #fame   \n",
       "1               /organization/-qounter                :Qounter   \n",
       "2               /organization/-qounter                :Qounter   \n",
       "3  /organization/-the-one-of-them-inc-  (THE) ONE of THEM,Inc.   \n",
       "4                /organization/0-6-com                 0-6.com   \n",
       "\n",
       "             homepage_url                                      category_list  \\\n",
       "0      http://livfame.com                                              Media   \n",
       "1  http://www.qounter.com  Application Platforms|Real Time|Social Network...   \n",
       "2  http://www.qounter.com  Application Platforms|Real Time|Social Network...   \n",
       "3     http://oneofthem.jp                                  Apps|Games|Mobile   \n",
       "4      http://www.0-6.com                                        Curated Web   \n",
       "\n",
       "      status country_code state_code      region           city  founded_at  \\\n",
       "0  operating          IND         16      Mumbai         Mumbai         NaN   \n",
       "1  operating          USA         DE  DE - Other  Delaware City  04-09-2014   \n",
       "2  operating          USA         DE  DE - Other  Delaware City  04-09-2014   \n",
       "3  operating          NaN        NaN         NaN            NaN         NaN   \n",
       "4  operating          CHN         22     Beijing        Beijing  01-01-2007   \n",
       "\n",
       "                     company_permalink  \\\n",
       "0                  /organization/-fame   \n",
       "1               /organization/-qounter   \n",
       "2               /organization/-qounter   \n",
       "3  /organization/-the-one-of-them-inc-   \n",
       "4                /organization/0-6-com   \n",
       "\n",
       "                           funding_round_permalink funding_round_type  \\\n",
       "0  /funding-round/9a01d05418af9f794eebff7ace91f638            venture   \n",
       "1  /funding-round/22dacff496eb7acb2b901dec1dfe5633            venture   \n",
       "2  /funding-round/b44fbb94153f6cdef13083530bb48030               seed   \n",
       "3  /funding-round/650b8f704416801069bb178a1418776b            venture   \n",
       "4  /funding-round/5727accaeaa57461bd22a9bdd945382d            venture   \n",
       "\n",
       "  funding_round_code   funded_at  raised_amount_usd  \n",
       "0                  B  05-01-2015         10000000.0  \n",
       "1                  A  14-10-2014                NaN  \n",
       "2                NaN  01-03-2014           700000.0  \n",
       "3                  B  30-01-2014          3406878.0  \n",
       "4                  A  19-03-2008          2000000.0  "
      ]
     },
     "execution_count": 24,
     "metadata": {},
     "output_type": "execute_result"
    }
   ],
   "source": [
    "# Nối 2 dataframe thành master dataframe dựa trên permalink và company_link\n",
    "master = pd.merge(companies, rounds2, how='inner', left_on='permalink', right_on='company_permalink')\n",
    "master.head()"
   ]
  },
  {
   "cell_type": "markdown",
   "metadata": {
    "id": "belgZFK1OBy3"
   },
   "source": [
    "Vì các cột company_permalink và permalink giống nhau nên hãy xóa một trong số chúng."
   ]
  },
  {
   "cell_type": "code",
   "execution_count": 25,
   "metadata": {
    "_uuid": "7b448b60ee7ce3896b37ca228cd51b36fb63050c",
    "id": "5F4WHjUMOBy3"
   },
   "outputs": [],
   "source": [
    "# Loại bỏ các cột dư thừa\n",
    "master =  master.drop(['company_permalink'], axis=1)"
   ]
  },
  {
   "cell_type": "code",
   "execution_count": 26,
   "metadata": {
    "_uuid": "01bd85a6078e03a15653e3aef95f5d177ca767a0",
    "colab": {
     "base_uri": "https://localhost:8080/"
    },
    "id": "sApEfiKkOBy4",
    "outputId": "852b7674-44e3-4628-c72e-ed6676293d6d"
   },
   "outputs": [
    {
     "data": {
      "text/plain": [
       "permalink                   0.00\n",
       "name                        0.00\n",
       "homepage_url                5.34\n",
       "category_list               2.97\n",
       "status                      0.00\n",
       "country_code                7.55\n",
       "state_code                  9.52\n",
       "region                      8.84\n",
       "city                        8.84\n",
       "founded_at                 17.85\n",
       "funding_round_permalink     0.00\n",
       "funding_round_type          0.00\n",
       "funding_round_code         72.91\n",
       "funded_at                   0.00\n",
       "raised_amount_usd          17.39\n",
       "dtype: float64"
      ]
     },
     "execution_count": 26,
     "metadata": {},
     "output_type": "execute_result"
    }
   ],
   "source": [
    "# Tính tỉ lệ các giá trị bị thiếu\n",
    "round(100*(master.isnull().sum()/len(master.index)), 2)"
   ]
  },
  {
   "cell_type": "markdown",
   "metadata": {
    "_uuid": "d6909dfdad474fd4a3115cdd3dcf133c87bdaede",
    "id": "fXGzX8POOBy4"
   },
   "source": [
    "Với khoảng 73% giá trị bị thiếu, cột funding_round_code là vô dụng. Ngoài ra, đối với các mục tiêu kinh doanh được đưa ra, các cột homepage_url, founded_at, state_code, region và city không cần phải được sử dụng.\\\n",
    "Hãy xóa các cột này."
   ]
  },
  {
   "cell_type": "code",
   "execution_count": 27,
   "metadata": {
    "_uuid": "6f43c166de3aaef8732b34b7038ee68110d53f46",
    "colab": {
     "base_uri": "https://localhost:8080/",
     "height": 400
    },
    "id": "ubbLwmasOBy4",
    "outputId": "dc6e11b8-f2fe-40be-d1b1-460289889693"
   },
   "outputs": [
    {
     "data": {
      "text/html": [
       "<div>\n",
       "<style scoped>\n",
       "    .dataframe tbody tr th:only-of-type {\n",
       "        vertical-align: middle;\n",
       "    }\n",
       "\n",
       "    .dataframe tbody tr th {\n",
       "        vertical-align: top;\n",
       "    }\n",
       "\n",
       "    .dataframe thead th {\n",
       "        text-align: right;\n",
       "    }\n",
       "</style>\n",
       "<table border=\"1\" class=\"dataframe\">\n",
       "  <thead>\n",
       "    <tr style=\"text-align: right;\">\n",
       "      <th></th>\n",
       "      <th>permalink</th>\n",
       "      <th>name</th>\n",
       "      <th>category_list</th>\n",
       "      <th>status</th>\n",
       "      <th>country_code</th>\n",
       "      <th>funding_round_permalink</th>\n",
       "      <th>funding_round_type</th>\n",
       "      <th>funded_at</th>\n",
       "      <th>raised_amount_usd</th>\n",
       "    </tr>\n",
       "  </thead>\n",
       "  <tbody>\n",
       "    <tr>\n",
       "      <th>0</th>\n",
       "      <td>/organization/-fame</td>\n",
       "      <td>#fame</td>\n",
       "      <td>Media</td>\n",
       "      <td>operating</td>\n",
       "      <td>IND</td>\n",
       "      <td>/funding-round/9a01d05418af9f794eebff7ace91f638</td>\n",
       "      <td>venture</td>\n",
       "      <td>05-01-2015</td>\n",
       "      <td>10000000.0</td>\n",
       "    </tr>\n",
       "    <tr>\n",
       "      <th>1</th>\n",
       "      <td>/organization/-qounter</td>\n",
       "      <td>:Qounter</td>\n",
       "      <td>Application Platforms|Real Time|Social Network...</td>\n",
       "      <td>operating</td>\n",
       "      <td>USA</td>\n",
       "      <td>/funding-round/22dacff496eb7acb2b901dec1dfe5633</td>\n",
       "      <td>venture</td>\n",
       "      <td>14-10-2014</td>\n",
       "      <td>NaN</td>\n",
       "    </tr>\n",
       "    <tr>\n",
       "      <th>2</th>\n",
       "      <td>/organization/-qounter</td>\n",
       "      <td>:Qounter</td>\n",
       "      <td>Application Platforms|Real Time|Social Network...</td>\n",
       "      <td>operating</td>\n",
       "      <td>USA</td>\n",
       "      <td>/funding-round/b44fbb94153f6cdef13083530bb48030</td>\n",
       "      <td>seed</td>\n",
       "      <td>01-03-2014</td>\n",
       "      <td>700000.0</td>\n",
       "    </tr>\n",
       "    <tr>\n",
       "      <th>3</th>\n",
       "      <td>/organization/-the-one-of-them-inc-</td>\n",
       "      <td>(THE) ONE of THEM,Inc.</td>\n",
       "      <td>Apps|Games|Mobile</td>\n",
       "      <td>operating</td>\n",
       "      <td>NaN</td>\n",
       "      <td>/funding-round/650b8f704416801069bb178a1418776b</td>\n",
       "      <td>venture</td>\n",
       "      <td>30-01-2014</td>\n",
       "      <td>3406878.0</td>\n",
       "    </tr>\n",
       "    <tr>\n",
       "      <th>4</th>\n",
       "      <td>/organization/0-6-com</td>\n",
       "      <td>0-6.com</td>\n",
       "      <td>Curated Web</td>\n",
       "      <td>operating</td>\n",
       "      <td>CHN</td>\n",
       "      <td>/funding-round/5727accaeaa57461bd22a9bdd945382d</td>\n",
       "      <td>venture</td>\n",
       "      <td>19-03-2008</td>\n",
       "      <td>2000000.0</td>\n",
       "    </tr>\n",
       "  </tbody>\n",
       "</table>\n",
       "</div>"
      ],
      "text/plain": [
       "                             permalink                    name  \\\n",
       "0                  /organization/-fame                   #fame   \n",
       "1               /organization/-qounter                :Qounter   \n",
       "2               /organization/-qounter                :Qounter   \n",
       "3  /organization/-the-one-of-them-inc-  (THE) ONE of THEM,Inc.   \n",
       "4                /organization/0-6-com                 0-6.com   \n",
       "\n",
       "                                       category_list     status country_code  \\\n",
       "0                                              Media  operating          IND   \n",
       "1  Application Platforms|Real Time|Social Network...  operating          USA   \n",
       "2  Application Platforms|Real Time|Social Network...  operating          USA   \n",
       "3                                  Apps|Games|Mobile  operating          NaN   \n",
       "4                                        Curated Web  operating          CHN   \n",
       "\n",
       "                           funding_round_permalink funding_round_type  \\\n",
       "0  /funding-round/9a01d05418af9f794eebff7ace91f638            venture   \n",
       "1  /funding-round/22dacff496eb7acb2b901dec1dfe5633            venture   \n",
       "2  /funding-round/b44fbb94153f6cdef13083530bb48030               seed   \n",
       "3  /funding-round/650b8f704416801069bb178a1418776b            venture   \n",
       "4  /funding-round/5727accaeaa57461bd22a9bdd945382d            venture   \n",
       "\n",
       "    funded_at  raised_amount_usd  \n",
       "0  05-01-2015         10000000.0  \n",
       "1  14-10-2014                NaN  \n",
       "2  01-03-2014           700000.0  \n",
       "3  30-01-2014          3406878.0  \n",
       "4  19-03-2008          2000000.0  "
      ]
     },
     "execution_count": 27,
     "metadata": {},
     "output_type": "execute_result"
    }
   ],
   "source": [
    "# Loại bỏ các cột dư thừa\n",
    "master = master.drop(['funding_round_code', 'homepage_url', 'founded_at', 'state_code', 'region', 'city'], axis=1)\n",
    "master.head()"
   ]
  },
  {
   "cell_type": "code",
   "execution_count": 28,
   "metadata": {
    "_uuid": "4a77d18f47093c3f7875943b4c3adadf4dea4463",
    "colab": {
     "base_uri": "https://localhost:8080/"
    },
    "id": "ataqHi2tOBy4",
    "outputId": "77ff37c8-ad34-4262-9aab-d310d62f3235"
   },
   "outputs": [
    {
     "data": {
      "text/plain": [
       "permalink                   0.00\n",
       "name                        0.00\n",
       "category_list               2.97\n",
       "status                      0.00\n",
       "country_code                7.55\n",
       "funding_round_permalink     0.00\n",
       "funding_round_type          0.00\n",
       "funded_at                   0.00\n",
       "raised_amount_usd          17.39\n",
       "dtype: float64"
      ]
     },
     "execution_count": 28,
     "metadata": {},
     "output_type": "execute_result"
    }
   ],
   "source": [
    "# Tính tỉ lệ các giá trị bị thiếu lần nữa\n",
    "round(100*(master.isnull().sum()/len(master.index)), 2)"
   ]
  },
  {
   "cell_type": "markdown",
   "metadata": {
    "_uuid": "aebd030eb4b23e6b43016d1fe4c6749b7c3b69c9",
    "id": "lncZUnxlOBy4"
   },
   "source": [
    "Do cột raise_amount_usd là một cột quan trọng, vì đó là con số chúng ta muốn phân tích (so sánh, giá trị trung bình, tổng, v.v.). nên cần phải được xử lý cẩn thận.\n",
    "\n",
    "Ngoài ra, cột country_code sẽ được sử dụng để phân tích theo quốc gia và category_list sẽ được sử dụng để hợp nhất dataframe với các danh mục chính.\n",
    "\n",
    "Trước tiên ta có thể xử lý các giá trị bị thiếu trong raise_amount_usd"
   ]
  },
  {
   "cell_type": "code",
   "execution_count": 29,
   "metadata": {
    "_uuid": "233a7cf8e90a4a6507d5a8e4584ccbec682e2574",
    "colab": {
     "base_uri": "https://localhost:8080/"
    },
    "id": "jM9cjC3POBy5",
    "outputId": "f5a1e0d7-3d88-4e5e-978e-df0e0f957f4e"
   },
   "outputs": [
    {
     "data": {
      "text/plain": [
       "count    9.495900e+04\n",
       "mean     1.042687e+07\n",
       "std      1.148212e+08\n",
       "min      0.000000e+00\n",
       "25%      3.225000e+05\n",
       "50%      1.680511e+06\n",
       "75%      7.000000e+06\n",
       "max      2.127194e+10\n",
       "Name: raised_amount_usd, dtype: float64"
      ]
     },
     "execution_count": 29,
     "metadata": {},
     "output_type": "execute_result"
    }
   ],
   "source": [
    "# Mô tả các thông số thống kê của cột raised_amount_usd của dataframe master\n",
    "master['raised_amount_usd'].describe()"
   ]
  },
  {
   "cell_type": "markdown",
   "metadata": {
    "_uuid": "5eab63ae29ea8190f9e683e992da5aa055c64de0",
    "id": "od3lZl3nOBy5"
   },
   "source": [
    "Giá trị trung bình khoảng 10 triệu USD, trong khi giá trị trung vị chỉ khoảng 1,68 triệu USD. Giá trị tối thiểu và tối đa cũng cách xa nhau.\n",
    "\n",
    "Nhìn chung, vì số tiền tài trợ có sự chênh lệch rất lớn nên sẽ không phù hợp nếu quy nó bằng một số liệu như trung vị hoặc trung bình. Ngoài ra, vì chúng ta có số lượng quan sát khá lớn nên sẽ khôn ngoan hơn nếu chỉ bỏ bớt các hàng.\n",
    "\n",
    "Do đó, hãy loại bỏ các hàng có NaN trong raise_amount_usd."
   ]
  },
  {
   "cell_type": "code",
   "execution_count": 30,
   "metadata": {
    "_uuid": "c3b2dd5c515d18b2865365a49b9c0d12f88bcfb4",
    "colab": {
     "base_uri": "https://localhost:8080/"
    },
    "id": "AAm_bDf1OBy5",
    "outputId": "5da0e76b-67a4-4dc9-9877-6f0f18b4eeed"
   },
   "outputs": [
    {
     "data": {
      "text/plain": [
       "permalink                  0.00\n",
       "name                       0.00\n",
       "category_list              1.10\n",
       "status                     0.00\n",
       "country_code               6.16\n",
       "funding_round_permalink    0.00\n",
       "funding_round_type         0.00\n",
       "funded_at                  0.00\n",
       "raised_amount_usd          0.00\n",
       "dtype: float64"
      ]
     },
     "execution_count": 30,
     "metadata": {},
     "output_type": "execute_result"
    }
   ],
   "source": [
    "# Loại bỏ các giá trị NaNs trong raised_amount_usd\n",
    "master = master[~np.isnan(master['raised_amount_usd'])]\n",
    "round(100*(master.isnull().sum()/len(master.index)), 2)"
   ]
  },
  {
   "cell_type": "code",
   "execution_count": 31,
   "metadata": {
    "_uuid": "d2b95ad4ef8c5c76b6c7565697ad8dfcbb5c1992",
    "id": "vG-Gw-P3OBy5"
   },
   "outputs": [],
   "source": [
    "# Chuyển đổi cột country_code thành loại 'category' để xem sự phân bố của các giá trị cho các biến phân loại\n",
    "country_codes = master['country_code'].astype('category')"
   ]
  },
  {
   "cell_type": "code",
   "execution_count": 32,
   "metadata": {
    "_uuid": "09b1c0201ff5d7f41781705acddcb5ed33b64026",
    "colab": {
     "base_uri": "https://localhost:8080/"
    },
    "id": "YHz5cDLvOBy6",
    "outputId": "4413e582-5959-4b02-830b-fa05fb3451e8"
   },
   "outputs": [
    {
     "data": {
      "text/plain": [
       "country_code\n",
       "USA    62049\n",
       "GBR     5019\n",
       "CAN     2616\n",
       "CHN     1927\n",
       "IND     1649\n",
       "FRA     1451\n",
       "ISR     1364\n",
       "ESP     1074\n",
       "DEU     1042\n",
       "AUS      649\n",
       "Name: count, dtype: int64"
      ]
     },
     "execution_count": 32,
     "metadata": {},
     "output_type": "execute_result"
    }
   ],
   "source": [
    "# Hiển thị 10 quốc gia có số lần xuất hiện nhiều nhất\n",
    "country_codes.value_counts().head(10)"
   ]
  },
  {
   "cell_type": "code",
   "execution_count": 33,
   "metadata": {
    "colab": {
     "base_uri": "https://localhost:8080/"
    },
    "id": "_vlJcaRyOBy6",
    "outputId": "de48f2b8-1646-474b-a44d-22dedfe97d8f"
   },
   "outputs": [
    {
     "data": {
      "text/plain": [
       "country_code\n",
       "HND    1\n",
       "IRN    1\n",
       "MKD    1\n",
       "TGO    1\n",
       "PSE    1\n",
       "SYC    1\n",
       "KNA    1\n",
       "SEN    1\n",
       "LAO    1\n",
       "PRY    1\n",
       "Name: count, dtype: int64"
      ]
     },
     "execution_count": 33,
     "metadata": {},
     "output_type": "execute_result"
    }
   ],
   "source": [
    "# Hiển thị 10 quốc gia có số lần xuất hiện ít nhất\n",
    "country_codes.value_counts().tail(10)"
   ]
  },
  {
   "cell_type": "markdown",
   "metadata": {
    "id": "vy516S_OOBy6"
   },
   "source": [
    "Cho đến nay, số lượng đầu tư nhiều nhất đã xảy ra ở nước Mỹ. Chúng ta cũng có thể thấy các phân số."
   ]
  },
  {
   "cell_type": "code",
   "execution_count": 34,
   "metadata": {
    "_uuid": "786837427d84789ffe86d2c9fcf193c29dfc2dc0",
    "colab": {
     "base_uri": "https://localhost:8080/"
    },
    "id": "6LPrF2KoOBy6",
    "outputId": "4ae80da4-21ae-4cd9-d7c8-192844f4f95a"
   },
   "outputs": [
    {
     "data": {
      "text/plain": [
       "country_code\n",
       "USA    65.342937\n",
       "GBR     5.285439\n",
       "CAN     2.754873\n",
       "CHN     2.029297\n",
       "IND     1.736539\n",
       "         ...    \n",
       "HND     0.001053\n",
       "GGY     0.001053\n",
       "TGO     0.001053\n",
       "MNE     0.001053\n",
       "SEN     0.001053\n",
       "Name: count, Length: 134, dtype: float64"
      ]
     },
     "execution_count": 34,
     "metadata": {},
     "output_type": "execute_result"
    }
   ],
   "source": [
    "# Tính tỉ lệ các quốc gia xuất hiện\n",
    "100*(master['country_code'].value_counts()/len(master.index))"
   ]
  },
  {
   "cell_type": "markdown",
   "metadata": {
    "_uuid": "f8c233b049cca99772877b7be391ab84d3eda39b",
    "id": "SiIi3Il5OBy6"
   },
   "source": [
    "Bây giờ, chúng ta có thể xóa các hàng bị thiếu country_code (khoảng 6% hàng) hoặc chúng ta có thể gán chúng cho Mỹ. Vì 6% khá nhỏ và chúng ta có một lượng dữ liệu kha khá, có thể tốt hơn là chỉ xóa các hàng."
   ]
  },
  {
   "cell_type": "code",
   "execution_count": 35,
   "metadata": {
    "_uuid": "6783b7a9da0030ed3b10f64f9f05f5c728ca527a",
    "colab": {
     "base_uri": "https://localhost:8080/"
    },
    "id": "QgpV9OU6OBy6",
    "outputId": "c1dec7a2-7e84-4efd-9587-19559efdc02a"
   },
   "outputs": [
    {
     "data": {
      "text/plain": [
       "permalink                  0.00\n",
       "name                       0.00\n",
       "category_list              0.65\n",
       "status                     0.00\n",
       "country_code               0.00\n",
       "funding_round_permalink    0.00\n",
       "funding_round_type         0.00\n",
       "funded_at                  0.00\n",
       "raised_amount_usd          0.00\n",
       "dtype: float64"
      ]
     },
     "execution_count": 35,
     "metadata": {},
     "output_type": "execute_result"
    }
   ],
   "source": [
    "# Loại bỏ dòng có giá trị bị thiếu trong country_codes\n",
    "master = master[~pd.isnull(master['country_code'])]\n",
    "\n",
    "# Tính tỉ lệ các giá trị bị thiếu\n",
    "round(100*(master.isnull().sum()/len(master.index)), 2)"
   ]
  },
  {
   "cell_type": "markdown",
   "metadata": {
    "_uuid": "689a3764667354b48e9e5741629880023f720f1f",
    "id": "bZjuFwv_OBy7"
   },
   "source": [
    "Lưu ý rằng tỷ lệ giá trị bị thiếu trong dataframe  còn lại hiện cũng đã giảm - chỉ 0,65% trong category_list.Do đó, chúng ta hãy loại bỏ những thứ đó."
   ]
  },
  {
   "cell_type": "code",
   "execution_count": 36,
   "metadata": {
    "_uuid": "fb4e463c8687aa39e3a51ed80310c1ece4003e89",
    "colab": {
     "base_uri": "https://localhost:8080/"
    },
    "id": "atVALXhuOBy7",
    "outputId": "ea9f122e-d694-469e-bfd1-570a482da7b2"
   },
   "outputs": [
    {
     "data": {
      "text/plain": [
       "permalink                  0.0\n",
       "name                       0.0\n",
       "category_list              0.0\n",
       "status                     0.0\n",
       "country_code               0.0\n",
       "funding_round_permalink    0.0\n",
       "funding_round_type         0.0\n",
       "funded_at                  0.0\n",
       "raised_amount_usd          0.0\n",
       "dtype: float64"
      ]
     },
     "execution_count": 36,
     "metadata": {},
     "output_type": "execute_result"
    }
   ],
   "source": [
    "# Loại bỏ dòng có giá trị bị thiếu trong category_list values\n",
    "master = master[~pd.isnull(master['category_list'])]\n",
    "\n",
    "# Tính tỉ lệ các giá trị bị thiếu\n",
    "round(100*(master.isnull().sum()/len(master.index)), 2)"
   ]
  },
  {
   "cell_type": "code",
   "execution_count": 37,
   "metadata": {
    "_uuid": "bfde0d4929caf99fef193c972cb64dccf2418f6e",
    "colab": {
     "base_uri": "https://localhost:8080/"
    },
    "id": "DE_xYYzQOBy7",
    "outputId": "aa3ac736-c632-4d64-932b-04b99f3c37fa"
   },
   "outputs": [
    {
     "name": "stdout",
     "output_type": "stream",
     "text": [
      "<class 'pandas.core.frame.DataFrame'>\n",
      "Index: 88529 entries, 0 to 114947\n",
      "Data columns (total 9 columns):\n",
      " #   Column                   Non-Null Count  Dtype  \n",
      "---  ------                   --------------  -----  \n",
      " 0   permalink                88529 non-null  object \n",
      " 1   name                     88528 non-null  object \n",
      " 2   category_list            88529 non-null  object \n",
      " 3   status                   88529 non-null  object \n",
      " 4   country_code             88529 non-null  object \n",
      " 5   funding_round_permalink  88529 non-null  object \n",
      " 6   funding_round_type       88529 non-null  object \n",
      " 7   funded_at                88529 non-null  object \n",
      " 8   raised_amount_usd        88529 non-null  float64\n",
      "dtypes: float64(1), object(8)\n",
      "memory usage: 6.8+ MB\n"
     ]
    }
   ],
   "source": [
    "# Xem thông tin dataframe master\n",
    "master.info()"
   ]
  },
  {
   "cell_type": "markdown",
   "metadata": {
    "_uuid": "2335a39a24dc23e84deaf0eeb76dbf1e9d67b895",
    "id": "RJoR302mOByj"
   },
   "source": [
    "# Phân tích dữ liệu\n",
    "**Xác định các lĩnh vực, quốc gia tốt nhất và loại hình đầu tư phù hợp để thực hiện đầu tư. Chiến lược tổng thể là đầu tư vào nơi những người khác đang đầu tư, ngụ ý rằng các lĩnh vực và quốc gia 'tốt nhất' là những nơi 'hầu hết các nhà đầu tư đang đầu tư'.**"
   ]
  },
  {
   "cell_type": "markdown",
   "metadata": {
    "_uuid": "58a841f7f7a64d5f76fd41d6768036bc6c6d7113",
    "id": "seNYA-JUOBy7"
   },
   "source": [
    "## Phân tích loại hình đầu tư"
   ]
  },
  {
   "cell_type": "markdown",
   "metadata": {
    "id": "MVGvT4FKqafs"
   },
   "source": [
    "Các loại hình đầu tư như seed, venture, angel, etc.phụ thuộc vào loại hình công ty (khởi nghiệp, công ty, v.v.), giai đoạn của nó (khởi nghiệp giai đoạn đầu, khởi nghiệp được tài trợ, v.v.), số tiền tài trợ ( triệu USD đến một tỷ USD), v.v. Ví dụ seed, angel và venture là ba giai đoạn phổ biến của nguồn vốn khởi nghiệp.\n",
    "\n",
    "Đầu tư seed/angel đề cập đến các công ty khởi nghiệp ở giai đoạn đầu trong khi nguồn đầu tư venture xảy ra sau/các giai đoạn seed hoặc angel và liên quan đến số tiền đầu tư tương đối cao hơn.\n",
    "Các khoản đầu tư thuộc loại cổ phần tư nhân (Private equity) được liên kết với các công ty lớn hơn và liên quan đến các khoản đầu tư cao hơn so với loại hình liên doanh (venture) .Các công ty khởi nghiệp đã phát triển về quy mô cũng có thể nhận được nguồn vốn cổ phần tư nhân. Điều này có nghĩa là nếu một công ty đã đạt đến giai đoạn đầu tư venture thì nó đã vượt qua giai đoạn angel hoặc seed."
   ]
  },
  {
   "cell_type": "code",
   "execution_count": 38,
   "metadata": {
    "colab": {
     "base_uri": "https://localhost:8080/"
    },
    "id": "_dDMwBLAOBy8",
    "outputId": "71454cd5-9e18-42fd-df4f-196dc69e2a2c"
   },
   "outputs": [
    {
     "name": "stdout",
     "output_type": "stream",
     "text": [
      "['venture' 'seed' 'undisclosed' 'convertible_note' 'private_equity'\n",
      " 'debt_financing' 'angel' 'grant' 'equity_crowdfunding' 'post_ipo_equity'\n",
      " 'post_ipo_debt' 'product_crowdfunding' 'secondary_market'\n",
      " 'non_equity_assistance']\n",
      "14\n"
     ]
    }
   ],
   "source": [
    "# Xem các giá trị duy nhất từ funding_round_type\n",
    "print(master.funding_round_type.unique())\n",
    "\n",
    "# Lấy các giá trị duy nhất và đếm chúng\n",
    "unique_funding_round_types = master.funding_round_type.unique()\n",
    "unique_count = len(unique_funding_round_types)\n",
    "\n",
    "# In số lượng giá trị duy nhất\n",
    "print(unique_count)"
   ]
  },
  {
   "cell_type": "markdown",
   "metadata": {
    "id": "Jx3nUvqEoLf9"
   },
   "source": [
    "Kết quả cho thấy dữ liệu bao gồm các loại hình đầu tư đa dạng. Thể hiện sự phong phú của cơ hội đầu tư trong dữ liệu, từ các startup mới đến các doanh nghiệp lớn và có thị phần ổn định. Điều này cung cấp một cơ sở vững chắc cho việc phân tích và lựa chọn loại hình đầu tư phù hợp với mục tiêu đầu tư và chiến lược của nhà đầu tư."
   ]
  },
  {
   "cell_type": "markdown",
   "metadata": {
    "id": "zWvdP-ihoQVk"
   },
   "source": [
    "Tiếp theo ta sẽ liệt kê tất cả các loại hình đầu tư trong tập dữ liệu bằng cách thống kê số lượng giao dịch cho mỗi loại hình. Qua thống kê ta có thể thấy được mức độ phổ biến của từng loại hình đầu tư"
   ]
  },
  {
   "cell_type": "code",
   "execution_count": 39,
   "metadata": {
    "colab": {
     "base_uri": "https://localhost:8080/"
    },
    "id": "ta-fqebKOBy8",
    "outputId": "44089212-1885-4620-de51-0b4e579780c1"
   },
   "outputs": [
    {
     "name": "stdout",
     "output_type": "stream",
     "text": [
      "funding_round_type\n",
      "venture                  47809\n",
      "seed                     21095\n",
      "debt_financing            6506\n",
      "angel                     4400\n",
      "grant                     1939\n",
      "private_equity            1820\n",
      "undisclosed               1345\n",
      "convertible_note          1320\n",
      "equity_crowdfunding       1128\n",
      "post_ipo_equity            598\n",
      "product_crowdfunding       330\n",
      "post_ipo_debt              151\n",
      "non_equity_assistance       60\n",
      "secondary_market            28\n",
      "Name: count, dtype: int64\n"
     ]
    }
   ],
   "source": [
    "# Đếm các thành phần trong funding_round_type\n",
    "print(master.funding_round_type.value_counts())"
   ]
  },
  {
   "cell_type": "code",
   "execution_count": 40,
   "metadata": {
    "colab": {
     "base_uri": "https://localhost:8080/",
     "height": 633
    },
    "id": "5wXDR9nw9reK",
    "outputId": "f52c434d-78fc-45e1-a65c-d28978578534"
   },
   "outputs": [
    {
     "data": {
      "image/png": "[encoded data removed]",
      "text/plain": [
       "<Figure size 500x500 with 1 Axes>"
      ]
     },
     "metadata": {},
     "output_type": "display_data"
    }
   ],
   "source": [
    "# Vẽ biểu đồ tròn thống kê tỷ lệ số lượng giao dịch cho mỗi loại hình\n",
    "plt.figure(figsize=(5,5))\n",
    "sns.set_style('whitegrid')\n",
    "round_types = master.funding_round_type.value_counts()\n",
    "plt.pie(round_types.values, labels=round_types.index, autopct='%.1f%%',radius=1.5, \n",
    "        wedgeprops = { 'linewidth' : 1, 'edgecolor' : 'white' })\n",
    "plt.show()"
   ]
  },
  {
   "cell_type": "markdown",
   "metadata": {
    "id": "NFTAqOZKo5Sr"
   },
   "source": [
    "(1) **Venture và Seed đang chiếm vị trí dẫn đầu về số lượng giao dịch, vượt xa so với các loại hình đầu tư khác. Sự chênh lệch lớn trong số lượng giao dịch giữa Venture, Seed và các loại hình đầu tư khác cho thấy rằng Venture và Seed là những lựa chọn phổ biến và được ưa chuộng từ các nhà đầu tư trong dữ liệu này.**"
   ]
  },
  {
   "cell_type": "markdown",
   "metadata": {
    "_uuid": "022d8b2edc6100bb28dcb9ddcfd3b7d1fbaf473b",
    "id": "N9dPy4VzOBy8"
   },
   "source": [
    "Bây giờ, chúng ta phải tính giá trị đại diện của số tiền tài trợ cho từng loại hình đầu tư. Chúng ta có thể chọn giá trị trung bình hoặc trung vị - hãy xem phân phối của raise_amount_usd để hiểu về phân phối dữ liệu."
   ]
  },
  {
   "cell_type": "code",
   "execution_count": 41,
   "metadata": {
    "_uuid": "3ed30caf141432bcd56299a3141ba4383643419e",
    "colab": {
     "base_uri": "https://localhost:8080/",
     "height": 487
    },
    "id": "sTfst8ZaOBy8",
    "outputId": "199da25f-7c68-4313-f859-d99f00488d2a",
    "scrolled": true
   },
   "outputs": [
    {
     "data": {
      "image/png": "[encoded data removed]",
      "text/plain": [
       "<Figure size 640x480 with 1 Axes>"
      ]
     },
     "metadata": {},
     "output_type": "display_data"
    }
   ],
   "source": [
    "# Vẽ boxplot để xem phân phối của raised_amount_usd\n",
    "plt1 = sns.boxplot(y=master['raised_amount_usd'], color='seagreen')\n",
    "plt.yscale('log')\n",
    "plt1.set(ylabel = 'Funding ($)')\n",
    "plt.tight_layout()\n",
    "plt.show()"
   ]
  },
  {
   "cell_type": "code",
   "execution_count": 42,
   "metadata": {
    "id": "5orkZ2f6W-cZ"
   },
   "outputs": [],
   "source": [
    "# Chuyển đổi số tiền gọi vốn đã huy động sang triệu USD\n",
    "master['raised_amount_usd'] = round(master['raised_amount_usd']/1000000,2)"
   ]
  },
  {
   "cell_type": "code",
   "execution_count": 43,
   "metadata": {
    "colab": {
     "base_uri": "https://localhost:8080/",
     "height": 365
    },
    "id": "khIAunGp9QyH",
    "outputId": "351e5817-9ae3-4b4b-a055-d15ea216bb83"
   },
   "outputs": [
    {
     "data": {
      "text/html": [
       "<div>\n",
       "<style scoped>\n",
       "    .dataframe tbody tr th:only-of-type {\n",
       "        vertical-align: middle;\n",
       "    }\n",
       "\n",
       "    .dataframe tbody tr th {\n",
       "        vertical-align: top;\n",
       "    }\n",
       "\n",
       "    .dataframe thead th {\n",
       "        text-align: right;\n",
       "    }\n",
       "</style>\n",
       "<table border=\"1\" class=\"dataframe\">\n",
       "  <thead>\n",
       "    <tr style=\"text-align: right;\">\n",
       "      <th></th>\n",
       "      <th>permalink</th>\n",
       "      <th>name</th>\n",
       "      <th>category_list</th>\n",
       "      <th>status</th>\n",
       "      <th>country_code</th>\n",
       "      <th>funding_round_permalink</th>\n",
       "      <th>funding_round_type</th>\n",
       "      <th>funded_at</th>\n",
       "      <th>raised_amount_usd</th>\n",
       "    </tr>\n",
       "  </thead>\n",
       "  <tbody>\n",
       "    <tr>\n",
       "      <th>0</th>\n",
       "      <td>/organization/-fame</td>\n",
       "      <td>#fame</td>\n",
       "      <td>Media</td>\n",
       "      <td>operating</td>\n",
       "      <td>IND</td>\n",
       "      <td>/funding-round/9a01d05418af9f794eebff7ace91f638</td>\n",
       "      <td>venture</td>\n",
       "      <td>05-01-2015</td>\n",
       "      <td>10.00</td>\n",
       "    </tr>\n",
       "    <tr>\n",
       "      <th>2</th>\n",
       "      <td>/organization/-qounter</td>\n",
       "      <td>:Qounter</td>\n",
       "      <td>Application Platforms|Real Time|Social Network...</td>\n",
       "      <td>operating</td>\n",
       "      <td>USA</td>\n",
       "      <td>/funding-round/b44fbb94153f6cdef13083530bb48030</td>\n",
       "      <td>seed</td>\n",
       "      <td>01-03-2014</td>\n",
       "      <td>0.70</td>\n",
       "    </tr>\n",
       "    <tr>\n",
       "      <th>4</th>\n",
       "      <td>/organization/0-6-com</td>\n",
       "      <td>0-6.com</td>\n",
       "      <td>Curated Web</td>\n",
       "      <td>operating</td>\n",
       "      <td>CHN</td>\n",
       "      <td>/funding-round/5727accaeaa57461bd22a9bdd945382d</td>\n",
       "      <td>venture</td>\n",
       "      <td>19-03-2008</td>\n",
       "      <td>2.00</td>\n",
       "    </tr>\n",
       "    <tr>\n",
       "      <th>6</th>\n",
       "      <td>/organization/01games-technology</td>\n",
       "      <td>01Games Technology</td>\n",
       "      <td>Games</td>\n",
       "      <td>operating</td>\n",
       "      <td>HKG</td>\n",
       "      <td>/funding-round/7d53696f2b4f607a2f2a8cbb83d01839</td>\n",
       "      <td>undisclosed</td>\n",
       "      <td>01-07-2014</td>\n",
       "      <td>0.04</td>\n",
       "    </tr>\n",
       "    <tr>\n",
       "      <th>7</th>\n",
       "      <td>/organization/0ndine-biomedical-inc</td>\n",
       "      <td>Ondine Biomedical Inc.</td>\n",
       "      <td>Biotechnology</td>\n",
       "      <td>operating</td>\n",
       "      <td>CAN</td>\n",
       "      <td>/funding-round/2b9d3ac293d5cdccbecff5c8cb0f327d</td>\n",
       "      <td>seed</td>\n",
       "      <td>11-09-2009</td>\n",
       "      <td>0.04</td>\n",
       "    </tr>\n",
       "  </tbody>\n",
       "</table>\n",
       "</div>"
      ],
      "text/plain": [
       "                             permalink                    name  \\\n",
       "0                  /organization/-fame                   #fame   \n",
       "2               /organization/-qounter                :Qounter   \n",
       "4                /organization/0-6-com                 0-6.com   \n",
       "6     /organization/01games-technology      01Games Technology   \n",
       "7  /organization/0ndine-biomedical-inc  Ondine Biomedical Inc.   \n",
       "\n",
       "                                       category_list     status country_code  \\\n",
       "0                                              Media  operating          IND   \n",
       "2  Application Platforms|Real Time|Social Network...  operating          USA   \n",
       "4                                        Curated Web  operating          CHN   \n",
       "6                                              Games  operating          HKG   \n",
       "7                                      Biotechnology  operating          CAN   \n",
       "\n",
       "                           funding_round_permalink funding_round_type  \\\n",
       "0  /funding-round/9a01d05418af9f794eebff7ace91f638            venture   \n",
       "2  /funding-round/b44fbb94153f6cdef13083530bb48030               seed   \n",
       "4  /funding-round/5727accaeaa57461bd22a9bdd945382d            venture   \n",
       "6  /funding-round/7d53696f2b4f607a2f2a8cbb83d01839        undisclosed   \n",
       "7  /funding-round/2b9d3ac293d5cdccbecff5c8cb0f327d               seed   \n",
       "\n",
       "    funded_at  raised_amount_usd  \n",
       "0  05-01-2015              10.00  \n",
       "2  01-03-2014               0.70  \n",
       "4  19-03-2008               2.00  \n",
       "6  01-07-2014               0.04  \n",
       "7  11-09-2009               0.04  "
      ]
     },
     "execution_count": 43,
     "metadata": {},
     "output_type": "execute_result"
    }
   ],
   "source": [
    "master.head()"
   ]
  },
  {
   "cell_type": "code",
   "execution_count": 44,
   "metadata": {
    "colab": {
     "base_uri": "https://localhost:8080/"
    },
    "id": "DCFfOnqeXAwt",
    "outputId": "c6527ee2-b002-4fa7-8c83-b180e4ae9f6b"
   },
   "outputs": [
    {
     "data": {
      "text/plain": [
       "count    88529.000000\n",
       "mean        10.473819\n",
       "std        111.811821\n",
       "min          0.000000\n",
       "25%          0.370000\n",
       "50%          1.800000\n",
       "75%          7.100000\n",
       "max      21271.940000\n",
       "Name: raised_amount_usd, dtype: float64"
      ]
     },
     "execution_count": 44,
     "metadata": {},
     "output_type": "execute_result"
    }
   ],
   "source": [
    "# Xem thống kê raised_amount_usd trong data frame master (summary metrics)\n",
    "master['raised_amount_usd'].describe()"
   ]
  },
  {
   "cell_type": "markdown",
   "metadata": {
    "id": "TnzBF_l0pACs"
   },
   "source": [
    "Từ dữ liệu ta thấy rằng 'raised_amount_usd' có sự phân tán lớn trong dữ liệu. Phần lớn các giao dịch tập trung ở mức giá trị thấp. Tuy nhiên, cũng có một số lượng nhỏ các giao dịch có giá trị tài trợ rất lớn, với giá trị lớn nhất lên đến 21271.94 triệu USD. Điều này cho thấy sự không đồng đều trong phân phối giá trị của các giao dịch đầu tư."
   ]
  },
  {
   "cell_type": "markdown",
   "metadata": {
    "_uuid": "ecb07c090f69ab1d4f4e6a9ffa1d0190b72558b9",
    "id": "BqEkq-M5OBy9"
   },
   "source": [
    "Lưu ý rằng có sự khác biệt đáng kể giữa giá trị trung bình và giá trị trung vị - 10,5 triệu USD và 1,8 triệu USD. Chúng ta cũng hãy so sánh số liệu thống kê tóm tắt giữa các category."
   ]
  },
  {
   "cell_type": "code",
   "execution_count": 45,
   "metadata": {
    "_uuid": "49726c02fb480546c62ab2e4e0558f729b20e86e",
    "colab": {
     "base_uri": "https://localhost:8080/",
     "height": 926
    },
    "id": "07e1_t1vOBy9",
    "outputId": "8ce5daa0-2c2a-4d77-f30a-5a729c26b8d5"
   },
   "outputs": [
    {
     "data": {
      "image/png": "[encoded data removed]",
      "text/plain": [
       "<Figure size 1000x1000 with 1 Axes>"
      ]
     },
     "metadata": {},
     "output_type": "display_data"
    }
   ],
   "source": [
    "# So sánh các số liệu tóm tắt giữa các nhóm\n",
    "plt.figure(figsize=(10, 10))\n",
    "sns.set_style('whitegrid')\n",
    "sns.boxplot(x='funding_round_type', y='raised_amount_usd', data=master , palette = 'Spectral' )\n",
    "plt.yscale('log')\n",
    "plt.xticks(rotation = 30)\n",
    "plt.show()"
   ]
  },
  {
   "cell_type": "code",
   "execution_count": 46,
   "metadata": {
    "_uuid": "8ce1cc5b4d329f661927fcba14ccea811fa9ece4",
    "colab": {
     "base_uri": "https://localhost:8080/",
     "height": 132
    },
    "id": "g5ma9tbvOBy9",
    "outputId": "bc8f3e40-d4c9-464a-e937-2f6135f3f79e",
    "scrolled": true
   },
   "outputs": [
    {
     "data": {
      "text/html": [
       "<div>\n",
       "<style scoped>\n",
       "    .dataframe tbody tr th:only-of-type {\n",
       "        vertical-align: middle;\n",
       "    }\n",
       "\n",
       "    .dataframe tbody tr th {\n",
       "        vertical-align: top;\n",
       "    }\n",
       "\n",
       "    .dataframe thead tr th {\n",
       "        text-align: left;\n",
       "    }\n",
       "</style>\n",
       "<table border=\"1\" class=\"dataframe\">\n",
       "  <thead>\n",
       "    <tr>\n",
       "      <th></th>\n",
       "      <th colspan=\"14\" halign=\"left\">median</th>\n",
       "    </tr>\n",
       "    <tr>\n",
       "      <th>funding_round_type</th>\n",
       "      <th>angel</th>\n",
       "      <th>convertible_note</th>\n",
       "      <th>debt_financing</th>\n",
       "      <th>equity_crowdfunding</th>\n",
       "      <th>grant</th>\n",
       "      <th>non_equity_assistance</th>\n",
       "      <th>post_ipo_debt</th>\n",
       "      <th>post_ipo_equity</th>\n",
       "      <th>private_equity</th>\n",
       "      <th>product_crowdfunding</th>\n",
       "      <th>secondary_market</th>\n",
       "      <th>seed</th>\n",
       "      <th>undisclosed</th>\n",
       "      <th>venture</th>\n",
       "    </tr>\n",
       "  </thead>\n",
       "  <tbody>\n",
       "    <tr>\n",
       "      <th>raised_amount_usd</th>\n",
       "      <td>0.415</td>\n",
       "      <td>0.3</td>\n",
       "      <td>1.1</td>\n",
       "      <td>0.08</td>\n",
       "      <td>0.22</td>\n",
       "      <td>0.06</td>\n",
       "      <td>19.9</td>\n",
       "      <td>12.265</td>\n",
       "      <td>20.0</td>\n",
       "      <td>0.21</td>\n",
       "      <td>45.85</td>\n",
       "      <td>0.3</td>\n",
       "      <td>1.1</td>\n",
       "      <td>5.0</td>\n",
       "    </tr>\n",
       "  </tbody>\n",
       "</table>\n",
       "</div>"
      ],
      "text/plain": [
       "                   median                                                      \\\n",
       "funding_round_type  angel convertible_note debt_financing equity_crowdfunding   \n",
       "raised_amount_usd   0.415              0.3            1.1                0.08   \n",
       "\n",
       "                                                                              \\\n",
       "funding_round_type grant non_equity_assistance post_ipo_debt post_ipo_equity   \n",
       "raised_amount_usd   0.22                  0.06          19.9          12.265   \n",
       "\n",
       "                                                                              \\\n",
       "funding_round_type private_equity product_crowdfunding secondary_market seed   \n",
       "raised_amount_usd            20.0                 0.21            45.85  0.3   \n",
       "\n",
       "                                        \n",
       "funding_round_type undisclosed venture  \n",
       "raised_amount_usd          1.1     5.0  "
      ]
     },
     "execution_count": 46,
     "metadata": {},
     "output_type": "execute_result"
    }
   ],
   "source": [
    "# So sánh giá trị trung bình và trung vị giữa các nhóm\n",
    "master.pivot_table(values='raised_amount_usd',columns='funding_round_type',aggfunc=[np.median])"
   ]
  },
  {
   "cell_type": "code",
   "execution_count": 47,
   "metadata": {
    "_uuid": "8ce1cc5b4d329f661927fcba14ccea811fa9ece4",
    "colab": {
     "base_uri": "https://localhost:8080/",
     "height": 132
    },
    "id": "XXwckvMrPNN1",
    "outputId": "30d03397-e129-4673-af84-fbc196e872ee",
    "scrolled": true
   },
   "outputs": [
    {
     "data": {
      "text/html": [
       "<div>\n",
       "<style scoped>\n",
       "    .dataframe tbody tr th:only-of-type {\n",
       "        vertical-align: middle;\n",
       "    }\n",
       "\n",
       "    .dataframe tbody tr th {\n",
       "        vertical-align: top;\n",
       "    }\n",
       "\n",
       "    .dataframe thead tr th {\n",
       "        text-align: left;\n",
       "    }\n",
       "</style>\n",
       "<table border=\"1\" class=\"dataframe\">\n",
       "  <thead>\n",
       "    <tr>\n",
       "      <th></th>\n",
       "      <th colspan=\"14\" halign=\"left\">mean</th>\n",
       "    </tr>\n",
       "    <tr>\n",
       "      <th>funding_round_type</th>\n",
       "      <th>angel</th>\n",
       "      <th>convertible_note</th>\n",
       "      <th>debt_financing</th>\n",
       "      <th>equity_crowdfunding</th>\n",
       "      <th>grant</th>\n",
       "      <th>non_equity_assistance</th>\n",
       "      <th>post_ipo_debt</th>\n",
       "      <th>post_ipo_equity</th>\n",
       "      <th>private_equity</th>\n",
       "      <th>product_crowdfunding</th>\n",
       "      <th>secondary_market</th>\n",
       "      <th>seed</th>\n",
       "      <th>undisclosed</th>\n",
       "      <th>venture</th>\n",
       "    </tr>\n",
       "  </thead>\n",
       "  <tbody>\n",
       "    <tr>\n",
       "      <th>raised_amount_usd</th>\n",
       "      <td>0.97148</td>\n",
       "      <td>1.337091</td>\n",
       "      <td>17.167621</td>\n",
       "      <td>0.509761</td>\n",
       "      <td>4.512604</td>\n",
       "      <td>0.480667</td>\n",
       "      <td>169.451788</td>\n",
       "      <td>66.07709</td>\n",
       "      <td>73.938478</td>\n",
       "      <td>1.353333</td>\n",
       "      <td>84.438214</td>\n",
       "      <td>0.747736</td>\n",
       "      <td>15.891628</td>\n",
       "      <td>11.724214</td>\n",
       "    </tr>\n",
       "  </tbody>\n",
       "</table>\n",
       "</div>"
      ],
      "text/plain": [
       "                       mean                                  \\\n",
       "funding_round_type    angel convertible_note debt_financing   \n",
       "raised_amount_usd   0.97148         1.337091      17.167621   \n",
       "\n",
       "                                                                        \\\n",
       "funding_round_type equity_crowdfunding     grant non_equity_assistance   \n",
       "raised_amount_usd             0.509761  4.512604              0.480667   \n",
       "\n",
       "                                                                 \\\n",
       "funding_round_type post_ipo_debt post_ipo_equity private_equity   \n",
       "raised_amount_usd     169.451788        66.07709      73.938478   \n",
       "\n",
       "                                                                    \\\n",
       "funding_round_type product_crowdfunding secondary_market      seed   \n",
       "raised_amount_usd              1.353333        84.438214  0.747736   \n",
       "\n",
       "                                           \n",
       "funding_round_type undisclosed    venture  \n",
       "raised_amount_usd    15.891628  11.724214  "
      ]
     },
     "execution_count": 47,
     "metadata": {},
     "output_type": "execute_result"
    }
   ],
   "source": [
    "# So sánh giá trị trung bình và trung vị giữa các nhóm\n",
    "master.pivot_table(values='raised_amount_usd',columns='funding_round_type',aggfunc=[np.mean])"
   ]
  },
  {
   "cell_type": "markdown",
   "metadata": {
    "_uuid": "3c72980e2dbeb0d0bc5f2addd92331c2b80b82b8",
    "id": "XOZEbQPxOBy-"
   },
   "source": [
    "Lưu ý rằng có sự khác biệt lớn giữa giá trị trung bình và giá trị trung bình cho tất cả các loại.\n",
    "Vì vậy, việc lựa chọn thống kê tóm tắt sẽ ảnh hưởng mạnh mẽ đến quyết định (về loại hình đầu tư). Hãy chọn số trung vị, vì có khá nhiều giá trị cực trị kéo giá trị trung bình lên về phía chúng - nhưng chúng không phải là giá trị 'tiêu biểu' nhất."
   ]
  },
  {
   "cell_type": "code",
   "execution_count": 48,
   "metadata": {
    "_uuid": "84f2cbdc682a0a7e249195e6c4813348d0bcc9d7",
    "colab": {
     "base_uri": "https://localhost:8080/"
    },
    "id": "A8CxhWAPOBy-",
    "outputId": "a0bed208-b510-499e-fee9-ff1f0fde80a4"
   },
   "outputs": [
    {
     "data": {
      "text/plain": [
       "funding_round_type\n",
       "secondary_market         45.850\n",
       "private_equity           20.000\n",
       "post_ipo_debt            19.900\n",
       "post_ipo_equity          12.265\n",
       "venture                   5.000\n",
       "debt_financing            1.100\n",
       "undisclosed               1.100\n",
       "angel                     0.415\n",
       "convertible_note          0.300\n",
       "seed                      0.300\n",
       "grant                     0.220\n",
       "product_crowdfunding      0.210\n",
       "equity_crowdfunding       0.080\n",
       "non_equity_assistance     0.060\n",
       "Name: raised_amount_usd, dtype: float64"
      ]
     },
     "execution_count": 48,
     "metadata": {},
     "output_type": "execute_result"
    }
   ],
   "source": [
    "# So sánh trung vị từ giá trị đầu tư giữa các loại hình đầu tư\n",
    "master.groupby('funding_round_type')['raised_amount_usd'].median().sort_values(ascending=False)"
   ]
  },
  {
   "cell_type": "markdown",
   "metadata": {
    "_uuid": "7c4066b7beee50d916ad68794df74c1414d02b98",
    "id": "0m2nlANXOBy-"
   },
   "source": [
    "- Loại hình đầu tư Private Equity có sự chênh lệch lớn hơn so với các loại hình đầu tư khác.Do thường thực hiện ở giai đoạn sau khi doanh nghiệp đã có sự phát triển và thị phần ổn định, ta có thể thấy được sự quan tâm của các nhà đầu tư là các doanh nghiệp đã ổn định và có tiềm năng tăng trưởng cao\n",
    "- Venture tuy có số tiền đầu tư ít hơn so với Private Equity nhưng vẫn chiếm vị trí quan trọng trong bảng xếp hạng loại hình đầu tư. Điều này cho thấy các nhà đầu tư cũng có quan tâm đến các doanh nghiệp mới nổi và trên đà phát triển nhanh\n",
    "- Angel và Seed tuy số tiền đầu tư ít hơn hẳn so với 2 loại hình trước nhưng mà vẫn cân nhắc đầu tư vào các doanh nghiệp ở giai đoạn đầu sự phát triển, tuy tiềm năng rủi ro khá cao.\n",
    "- Các loại hình đầu tư khác không đáng kể so với Private Equity, Venture, Angel và Seed do có ít số lượng giao dịch.\n",
    "\n",
    "(2) **Từ đây ta kết luận được:\n",
    "Số tiền đầu tư trung bình cho loại 'private_equity' là khoảng 20 triệu USD, vượt quá phạm vi chênh lệch giữa giá trị trung bình và trung vị (10,5 - 1,8 triệu USD) và phạm vi 5-15 triệu của Spark Funds. Số tiền đầu tư trung bình của các loại debt_financing, angel, seed, grant... đều nằm ngoài phạm vi trên. Vì vậy mức trung bình của loại hình 'Venture' là khoảng 5 triệu USD, thích hợp nhất trong các loại hình đầu tư.**\n",
    "\n",
    "**Từ (1) và (2) ta có thể đưa ra kết luận đầu tư theo loại hình 'Venture' sẽ phù hợp nhất**"
   ]
  },
  {
   "cell_type": "markdown",
   "metadata": {
    "_uuid": "c5aac808447f3c7c6d73a07359ad8a2b8582a0db",
    "id": "NCvY9bGrOBy-"
   },
   "source": [
    "## Phân tích quốc gia"
   ]
  },
  {
   "cell_type": "code",
   "execution_count": 49,
   "metadata": {
    "_uuid": "520ff9d216e72c9bcba5c0703bfdfd93c6af7f2d",
    "colab": {
     "base_uri": "https://localhost:8080/"
    },
    "id": "YaIm7W0POBy-",
    "outputId": "c4ed18e2-777a-4c40-9482-fc8b8bcfd76c"
   },
   "outputs": [
    {
     "data": {
      "text/plain": [
       "country_code\n",
       "USA    420067.65\n",
       "CHN     39338.79\n",
       "GBR     20072.77\n",
       "IND     14261.56\n",
       "CAN      9482.20\n",
       "FRA      7226.81\n",
       "ISR      6854.34\n",
       "DEU      6307.00\n",
       "JPN      3167.67\n",
       "SWE      3145.88\n",
       "Name: raised_amount_usd, dtype: float64"
      ]
     },
     "execution_count": 49,
     "metadata": {},
     "output_type": "execute_result"
    }
   ],
   "source": [
    "# Lọc bộ dữ liệu theo loại hình đầu tư phù hợp nhất (Venture)\n",
    "master_frame = master[master.funding_round_type=='venture']\n",
    "\n",
    "# Nhóm theo mã quốc gia và so sánh tổng số tiền vốn huy động\n",
    "country_wise_total=master_frame.groupby('country_code')['raised_amount_usd'].sum().sort_values(ascending=False).head(10)\n",
    "country_wise_total"
   ]
  },
  {
   "cell_type": "markdown",
   "metadata": {
    "_uuid": "06d65321b74596c15b9e15eb21be3db65b965f1b",
    "id": "LfJEaiMdOBy-"
   },
   "source": [
    "Trong số 10 quốc gia dẫn đầu, Mỹ, Trung Quốc và Anh là ba quốc gia đứng đầu với số tiền đầu tư nhiều nhất. Hãy lọc dataframe để nó chỉ chứa 3 quốc gia hàng đầu.\n",
    "\n",
    "\n"
   ]
  },
  {
   "cell_type": "code",
   "execution_count": 50,
   "metadata": {
    "_uuid": "5955d3f4b43052f1aaafb90699a9c364a4a24a64",
    "colab": {
     "base_uri": "https://localhost:8080/",
     "height": 313
    },
    "id": "mWPR-bu8OBy-",
    "outputId": "049b3180-da59-4f44-f95b-111627db36eb"
   },
   "outputs": [
    {
     "data": {
      "text/html": [
       "<div>\n",
       "<style scoped>\n",
       "    .dataframe tbody tr th:only-of-type {\n",
       "        vertical-align: middle;\n",
       "    }\n",
       "\n",
       "    .dataframe tbody tr th {\n",
       "        vertical-align: top;\n",
       "    }\n",
       "\n",
       "    .dataframe thead th {\n",
       "        text-align: right;\n",
       "    }\n",
       "</style>\n",
       "<table border=\"1\" class=\"dataframe\">\n",
       "  <thead>\n",
       "    <tr style=\"text-align: right;\">\n",
       "      <th></th>\n",
       "      <th>permalink</th>\n",
       "      <th>name</th>\n",
       "      <th>category_list</th>\n",
       "      <th>status</th>\n",
       "      <th>country_code</th>\n",
       "      <th>funding_round_permalink</th>\n",
       "      <th>funding_round_type</th>\n",
       "      <th>funded_at</th>\n",
       "      <th>raised_amount_usd</th>\n",
       "    </tr>\n",
       "  </thead>\n",
       "  <tbody>\n",
       "    <tr>\n",
       "      <th>4</th>\n",
       "      <td>/organization/0-6-com</td>\n",
       "      <td>0-6.com</td>\n",
       "      <td>Curated Web</td>\n",
       "      <td>operating</td>\n",
       "      <td>CHN</td>\n",
       "      <td>/funding-round/5727accaeaa57461bd22a9bdd945382d</td>\n",
       "      <td>venture</td>\n",
       "      <td>19-03-2008</td>\n",
       "      <td>2.0</td>\n",
       "    </tr>\n",
       "    <tr>\n",
       "      <th>10</th>\n",
       "      <td>/organization/0xdata</td>\n",
       "      <td>H2O.ai</td>\n",
       "      <td>Analytics</td>\n",
       "      <td>operating</td>\n",
       "      <td>USA</td>\n",
       "      <td>/funding-round/3bb2ee4a2d89251a10aaa735b1180e44</td>\n",
       "      <td>venture</td>\n",
       "      <td>09-11-2015</td>\n",
       "      <td>20.0</td>\n",
       "    </tr>\n",
       "    <tr>\n",
       "      <th>11</th>\n",
       "      <td>/organization/0xdata</td>\n",
       "      <td>H2O.ai</td>\n",
       "      <td>Analytics</td>\n",
       "      <td>operating</td>\n",
       "      <td>USA</td>\n",
       "      <td>/funding-round/ae2a174c06517c2394aed45006322a7e</td>\n",
       "      <td>venture</td>\n",
       "      <td>03-01-2013</td>\n",
       "      <td>1.7</td>\n",
       "    </tr>\n",
       "    <tr>\n",
       "      <th>12</th>\n",
       "      <td>/organization/0xdata</td>\n",
       "      <td>H2O.ai</td>\n",
       "      <td>Analytics</td>\n",
       "      <td>operating</td>\n",
       "      <td>USA</td>\n",
       "      <td>/funding-round/e1cfcbe1bdf4c70277c5f29a3482f24e</td>\n",
       "      <td>venture</td>\n",
       "      <td>19-07-2014</td>\n",
       "      <td>8.9</td>\n",
       "    </tr>\n",
       "    <tr>\n",
       "      <th>22</th>\n",
       "      <td>/organization/1-mainstream</td>\n",
       "      <td>1 Mainstream</td>\n",
       "      <td>Apps|Cable|Distribution|Software</td>\n",
       "      <td>acquired</td>\n",
       "      <td>USA</td>\n",
       "      <td>/funding-round/b952cbaf401f310927430c97b68162ea</td>\n",
       "      <td>venture</td>\n",
       "      <td>17-03-2015</td>\n",
       "      <td>5.0</td>\n",
       "    </tr>\n",
       "  </tbody>\n",
       "</table>\n",
       "</div>"
      ],
      "text/plain": [
       "                     permalink          name  \\\n",
       "4        /organization/0-6-com       0-6.com   \n",
       "10        /organization/0xdata        H2O.ai   \n",
       "11        /organization/0xdata        H2O.ai   \n",
       "12        /organization/0xdata        H2O.ai   \n",
       "22  /organization/1-mainstream  1 Mainstream   \n",
       "\n",
       "                       category_list     status country_code  \\\n",
       "4                        Curated Web  operating          CHN   \n",
       "10                         Analytics  operating          USA   \n",
       "11                         Analytics  operating          USA   \n",
       "12                         Analytics  operating          USA   \n",
       "22  Apps|Cable|Distribution|Software   acquired          USA   \n",
       "\n",
       "                            funding_round_permalink funding_round_type  \\\n",
       "4   /funding-round/5727accaeaa57461bd22a9bdd945382d            venture   \n",
       "10  /funding-round/3bb2ee4a2d89251a10aaa735b1180e44            venture   \n",
       "11  /funding-round/ae2a174c06517c2394aed45006322a7e            venture   \n",
       "12  /funding-round/e1cfcbe1bdf4c70277c5f29a3482f24e            venture   \n",
       "22  /funding-round/b952cbaf401f310927430c97b68162ea            venture   \n",
       "\n",
       "     funded_at  raised_amount_usd  \n",
       "4   19-03-2008                2.0  \n",
       "10  09-11-2015               20.0  \n",
       "11  03-01-2013                1.7  \n",
       "12  19-07-2014                8.9  \n",
       "22  17-03-2015                5.0  "
      ]
     },
     "execution_count": 50,
     "metadata": {},
     "output_type": "execute_result"
    }
   ],
   "source": [
    "# Lọc top 3 quốc gia\n",
    "master_frame = master_frame[(master_frame.country_code=='USA') | \n",
    "                            (master_frame.country_code=='CHN') | \n",
    "                            (master_frame.country_code=='GBR')]\n",
    "master_frame.head()"
   ]
  },
  {
   "cell_type": "code",
   "execution_count": 51,
   "metadata": {
    "_uuid": "771898aeb2ebf3b143b863788e84d101a1edfbff",
    "colab": {
     "base_uri": "https://localhost:8080/",
     "height": 850
    },
    "id": "U7Qm8ZQrOBy_",
    "outputId": "261ec712-fa1c-4c12-dc7e-e752c851f708"
   },
   "outputs": [
    {
     "data": {
      "image/png": "[encoded data removed]",
      "text/plain": [
       "<Figure size 1000x1000 with 1 Axes>"
      ]
     },
     "metadata": {},
     "output_type": "display_data"
    }
   ],
   "source": [
    "# Tạo biểu đồ boxplot để thấy phân bố của số tiền tài trợ từ các quốc gia\n",
    "plt.figure(figsize=(10, 10))\n",
    "sns.boxplot(x='country_code', y='raised_amount_usd', data=master_frame, palette= 'Paired')\n",
    "plt.yscale('log')\n",
    "plt.show()"
   ]
  },
  {
   "cell_type": "markdown",
   "metadata": {
    "id": "Yq3g1DM-zZRo"
   },
   "source": [
    "Từ biểu đồ ta có thể thấy mỗi quốc gia có một màu tương ứng, biểu thi phạm vi giá trị đầu tư.\n",
    "- Mỹ là quốc gia nhận được số tiền đầu tư cao nhất trong quá khứ, hộp màu xanh đậm lớn có nhiều điểm ngoại lai điều này cho thấy quốc gia này có sự biến động lớn về số tiền đầu tư.\n",
    "- Trung Quốc có vùng màu xanh nhạt và ngắn hơn so với Mỹ, ít điểm ngoại lai hơn, cho thấy ở đây ít biến động hơn về số tiền đầu tư.\n",
    "- Anh Quốc tuy đứng thứ 3 về số lượng tiền đầu tư vào, cũng như là phạm vi đầu tư nhỏ hơn nhưng điều này cho thấy ở đây có sự ổn định và nhất quán trong hoạt động đầu tư. Không như Mỹ và Trung Quốc vì 2 quốc gia này có sự biến động lớn trong số tiền đầu tư, cho thấy có sự không ổn định và rủi ro trong việc đầu tư tại đây."
   ]
  },
  {
   "cell_type": "markdown",
   "metadata": {},
   "source": [
    "**Vậy quốc gia có số lượng và số tiền đầu tư cao nhất trong quá khứ là Mỹ, là quốc gia phù hợp để đầu tư nhất dựa trên chiến lược kinh doanh được đưa ra.**"
   ]
  },
  {
   "cell_type": "markdown",
   "metadata": {
    "_uuid": "ba962cdef9c5c1b6cd13c78ed2e9701371d8d175",
    "id": "muvQeR-YOBy_"
   },
   "source": [
    "## Phân tích lĩnh vực đầu tư"
   ]
  },
  {
   "cell_type": "markdown",
   "metadata": {
    "id": "M1z5n-VAqafy"
   },
   "source": [
    "Khi phân tích ngành, ta đề cập đến lĩnh vực chính (được đặt tên là main_sector) được liệt kê trong tệp mapping. Nhằm đơn giản hóa việc phân tích , ta nhóm nhiều danh sách danh mục (được đặt tên là 'category_list') trong tệp mapping. Ví dụ: trong tệp mapping, danh sách danh mục chẳng hạn như ‘3D’, ‘3D Printing’, ‘3D Technology’, etc. được ánh xạ tới lĩnh vực chính 'Manufacturing'.\n",
    "\n",
    "Ngoài ra, đối với một số công ty, danh sách danh mục ( category list ) là danh sách gồm nhiều ngành phụ được phân tách bằng dấu gạch ngang (thanh dọc |). Ví dụ: Application Platforms|Real Time|Social Network Media\n",
    "\n",
    "Quy tắc kinh doanh được đặt ra là : chuỗi đầu tiên trước thanh dọc sẽ là lĩnh vực chính. Trong ví dụ trên, ‘Application Platforms’ sẽ là lĩnh vực chính.\n",
    "\n",
    "Trích xuất khu vực chính của từng danh sách danh mục từ cột category_list\n",
    "\n",
    "Sử dụng tệp 'mapping.csv' để ánh xạ từng lĩnh vực chính vào một lĩnh vực chính (Lưu ý rằng ‘Other’ cũng được coi là một lĩnh vực chính)"
   ]
  },
  {
   "cell_type": "markdown",
   "metadata": {
    "id": "hsc5Pdg3qafy"
   },
   "source": [
    "### Xử lí tệp mapping.csv và gộp vào master dataframe"
   ]
  },
  {
   "cell_type": "code",
   "execution_count": 52,
   "metadata": {
    "_uuid": "03f647d5fd72f046efbe9ce0cb682298e43edf66",
    "colab": {
     "base_uri": "https://localhost:8080/",
     "height": 313
    },
    "id": "TDXUjaPuOBy_",
    "outputId": "67fabf6a-a97c-498a-d36d-ffdcb0eb13dd",
    "scrolled": true
   },
   "outputs": [
    {
     "data": {
      "text/html": [
       "<div>\n",
       "<style scoped>\n",
       "    .dataframe tbody tr th:only-of-type {\n",
       "        vertical-align: middle;\n",
       "    }\n",
       "\n",
       "    .dataframe tbody tr th {\n",
       "        vertical-align: top;\n",
       "    }\n",
       "\n",
       "    .dataframe thead th {\n",
       "        text-align: right;\n",
       "    }\n",
       "</style>\n",
       "<table border=\"1\" class=\"dataframe\">\n",
       "  <thead>\n",
       "    <tr style=\"text-align: right;\">\n",
       "      <th></th>\n",
       "      <th>permalink</th>\n",
       "      <th>name</th>\n",
       "      <th>category_list</th>\n",
       "      <th>status</th>\n",
       "      <th>country_code</th>\n",
       "      <th>funding_round_permalink</th>\n",
       "      <th>funding_round_type</th>\n",
       "      <th>funded_at</th>\n",
       "      <th>raised_amount_usd</th>\n",
       "    </tr>\n",
       "  </thead>\n",
       "  <tbody>\n",
       "    <tr>\n",
       "      <th>4</th>\n",
       "      <td>/organization/0-6-com</td>\n",
       "      <td>0-6.com</td>\n",
       "      <td>Curated Web</td>\n",
       "      <td>operating</td>\n",
       "      <td>CHN</td>\n",
       "      <td>/funding-round/5727accaeaa57461bd22a9bdd945382d</td>\n",
       "      <td>venture</td>\n",
       "      <td>19-03-2008</td>\n",
       "      <td>2.0</td>\n",
       "    </tr>\n",
       "    <tr>\n",
       "      <th>10</th>\n",
       "      <td>/organization/0xdata</td>\n",
       "      <td>H2O.ai</td>\n",
       "      <td>Analytics</td>\n",
       "      <td>operating</td>\n",
       "      <td>USA</td>\n",
       "      <td>/funding-round/3bb2ee4a2d89251a10aaa735b1180e44</td>\n",
       "      <td>venture</td>\n",
       "      <td>09-11-2015</td>\n",
       "      <td>20.0</td>\n",
       "    </tr>\n",
       "    <tr>\n",
       "      <th>11</th>\n",
       "      <td>/organization/0xdata</td>\n",
       "      <td>H2O.ai</td>\n",
       "      <td>Analytics</td>\n",
       "      <td>operating</td>\n",
       "      <td>USA</td>\n",
       "      <td>/funding-round/ae2a174c06517c2394aed45006322a7e</td>\n",
       "      <td>venture</td>\n",
       "      <td>03-01-2013</td>\n",
       "      <td>1.7</td>\n",
       "    </tr>\n",
       "    <tr>\n",
       "      <th>12</th>\n",
       "      <td>/organization/0xdata</td>\n",
       "      <td>H2O.ai</td>\n",
       "      <td>Analytics</td>\n",
       "      <td>operating</td>\n",
       "      <td>USA</td>\n",
       "      <td>/funding-round/e1cfcbe1bdf4c70277c5f29a3482f24e</td>\n",
       "      <td>venture</td>\n",
       "      <td>19-07-2014</td>\n",
       "      <td>8.9</td>\n",
       "    </tr>\n",
       "    <tr>\n",
       "      <th>22</th>\n",
       "      <td>/organization/1-mainstream</td>\n",
       "      <td>1 Mainstream</td>\n",
       "      <td>Apps</td>\n",
       "      <td>acquired</td>\n",
       "      <td>USA</td>\n",
       "      <td>/funding-round/b952cbaf401f310927430c97b68162ea</td>\n",
       "      <td>venture</td>\n",
       "      <td>17-03-2015</td>\n",
       "      <td>5.0</td>\n",
       "    </tr>\n",
       "  </tbody>\n",
       "</table>\n",
       "</div>"
      ],
      "text/plain": [
       "                     permalink          name category_list     status  \\\n",
       "4        /organization/0-6-com       0-6.com   Curated Web  operating   \n",
       "10        /organization/0xdata        H2O.ai     Analytics  operating   \n",
       "11        /organization/0xdata        H2O.ai     Analytics  operating   \n",
       "12        /organization/0xdata        H2O.ai     Analytics  operating   \n",
       "22  /organization/1-mainstream  1 Mainstream          Apps   acquired   \n",
       "\n",
       "   country_code                          funding_round_permalink  \\\n",
       "4           CHN  /funding-round/5727accaeaa57461bd22a9bdd945382d   \n",
       "10          USA  /funding-round/3bb2ee4a2d89251a10aaa735b1180e44   \n",
       "11          USA  /funding-round/ae2a174c06517c2394aed45006322a7e   \n",
       "12          USA  /funding-round/e1cfcbe1bdf4c70277c5f29a3482f24e   \n",
       "22          USA  /funding-round/b952cbaf401f310927430c97b68162ea   \n",
       "\n",
       "   funding_round_type   funded_at  raised_amount_usd  \n",
       "4             venture  19-03-2008                2.0  \n",
       "10            venture  09-11-2015               20.0  \n",
       "11            venture  03-01-2013                1.7  \n",
       "12            venture  19-07-2014                8.9  \n",
       "22            venture  17-03-2015                5.0  "
      ]
     },
     "execution_count": 52,
     "metadata": {},
     "output_type": "execute_result"
    }
   ],
   "source": [
    "# Trích xuất category_list từ master_frame\n",
    "master_frame['category_list'] = master_frame['category_list'].str.split('|').str.get(0)\n",
    "master_frame.head()"
   ]
  },
  {
   "cell_type": "code",
   "execution_count": 53,
   "metadata": {
    "_uuid": "57f1ec56e51ab7424666bb93eee19b304839f2e6",
    "colab": {
     "base_uri": "https://localhost:8080/",
     "height": 415
    },
    "id": "wN21Z9wgOBy_",
    "outputId": "413eba8b-6430-4420-c0e6-96db781517c5"
   },
   "outputs": [
    {
     "data": {
      "text/html": [
       "<div>\n",
       "<style scoped>\n",
       "    .dataframe tbody tr th:only-of-type {\n",
       "        vertical-align: middle;\n",
       "    }\n",
       "\n",
       "    .dataframe tbody tr th {\n",
       "        vertical-align: top;\n",
       "    }\n",
       "\n",
       "    .dataframe thead th {\n",
       "        text-align: right;\n",
       "    }\n",
       "</style>\n",
       "<table border=\"1\" class=\"dataframe\">\n",
       "  <thead>\n",
       "    <tr style=\"text-align: right;\">\n",
       "      <th></th>\n",
       "      <th>category_list</th>\n",
       "      <th>Automotive &amp; Sports</th>\n",
       "      <th>Blanks</th>\n",
       "      <th>Cleantech / Semiconductors</th>\n",
       "      <th>Entertainment</th>\n",
       "      <th>Health</th>\n",
       "      <th>Manufacturing</th>\n",
       "      <th>News, Search and Messaging</th>\n",
       "      <th>Others</th>\n",
       "      <th>Social, Finance, Analytics, Advertising</th>\n",
       "    </tr>\n",
       "  </thead>\n",
       "  <tbody>\n",
       "    <tr>\n",
       "      <th>0</th>\n",
       "      <td>NaN</td>\n",
       "      <td>0</td>\n",
       "      <td>1</td>\n",
       "      <td>0</td>\n",
       "      <td>0</td>\n",
       "      <td>0</td>\n",
       "      <td>0</td>\n",
       "      <td>0</td>\n",
       "      <td>0</td>\n",
       "      <td>0</td>\n",
       "    </tr>\n",
       "    <tr>\n",
       "      <th>1</th>\n",
       "      <td>3D</td>\n",
       "      <td>0</td>\n",
       "      <td>0</td>\n",
       "      <td>0</td>\n",
       "      <td>0</td>\n",
       "      <td>0</td>\n",
       "      <td>1</td>\n",
       "      <td>0</td>\n",
       "      <td>0</td>\n",
       "      <td>0</td>\n",
       "    </tr>\n",
       "    <tr>\n",
       "      <th>2</th>\n",
       "      <td>3D Printing</td>\n",
       "      <td>0</td>\n",
       "      <td>0</td>\n",
       "      <td>0</td>\n",
       "      <td>0</td>\n",
       "      <td>0</td>\n",
       "      <td>1</td>\n",
       "      <td>0</td>\n",
       "      <td>0</td>\n",
       "      <td>0</td>\n",
       "    </tr>\n",
       "    <tr>\n",
       "      <th>3</th>\n",
       "      <td>3D Technology</td>\n",
       "      <td>0</td>\n",
       "      <td>0</td>\n",
       "      <td>0</td>\n",
       "      <td>0</td>\n",
       "      <td>0</td>\n",
       "      <td>1</td>\n",
       "      <td>0</td>\n",
       "      <td>0</td>\n",
       "      <td>0</td>\n",
       "    </tr>\n",
       "    <tr>\n",
       "      <th>4</th>\n",
       "      <td>Accounting</td>\n",
       "      <td>0</td>\n",
       "      <td>0</td>\n",
       "      <td>0</td>\n",
       "      <td>0</td>\n",
       "      <td>0</td>\n",
       "      <td>0</td>\n",
       "      <td>0</td>\n",
       "      <td>0</td>\n",
       "      <td>1</td>\n",
       "    </tr>\n",
       "    <tr>\n",
       "      <th>5</th>\n",
       "      <td>Active Lifestyle</td>\n",
       "      <td>0</td>\n",
       "      <td>0</td>\n",
       "      <td>0</td>\n",
       "      <td>0</td>\n",
       "      <td>1</td>\n",
       "      <td>0</td>\n",
       "      <td>0</td>\n",
       "      <td>0</td>\n",
       "      <td>0</td>\n",
       "    </tr>\n",
       "    <tr>\n",
       "      <th>6</th>\n",
       "      <td>Ad Targeting</td>\n",
       "      <td>0</td>\n",
       "      <td>0</td>\n",
       "      <td>0</td>\n",
       "      <td>0</td>\n",
       "      <td>0</td>\n",
       "      <td>0</td>\n",
       "      <td>0</td>\n",
       "      <td>0</td>\n",
       "      <td>1</td>\n",
       "    </tr>\n",
       "    <tr>\n",
       "      <th>7</th>\n",
       "      <td>Advanced Materials</td>\n",
       "      <td>0</td>\n",
       "      <td>0</td>\n",
       "      <td>0</td>\n",
       "      <td>0</td>\n",
       "      <td>0</td>\n",
       "      <td>1</td>\n",
       "      <td>0</td>\n",
       "      <td>0</td>\n",
       "      <td>0</td>\n",
       "    </tr>\n",
       "    <tr>\n",
       "      <th>8</th>\n",
       "      <td>Adventure Travel</td>\n",
       "      <td>1</td>\n",
       "      <td>0</td>\n",
       "      <td>0</td>\n",
       "      <td>0</td>\n",
       "      <td>0</td>\n",
       "      <td>0</td>\n",
       "      <td>0</td>\n",
       "      <td>0</td>\n",
       "      <td>0</td>\n",
       "    </tr>\n",
       "    <tr>\n",
       "      <th>9</th>\n",
       "      <td>Advertising</td>\n",
       "      <td>0</td>\n",
       "      <td>0</td>\n",
       "      <td>0</td>\n",
       "      <td>0</td>\n",
       "      <td>0</td>\n",
       "      <td>0</td>\n",
       "      <td>0</td>\n",
       "      <td>0</td>\n",
       "      <td>1</td>\n",
       "    </tr>\n",
       "  </tbody>\n",
       "</table>\n",
       "</div>"
      ],
      "text/plain": [
       "        category_list  Automotive & Sports  Blanks  \\\n",
       "0                 NaN                    0       1   \n",
       "1                  3D                    0       0   \n",
       "2         3D Printing                    0       0   \n",
       "3       3D Technology                    0       0   \n",
       "4          Accounting                    0       0   \n",
       "5    Active Lifestyle                    0       0   \n",
       "6        Ad Targeting                    0       0   \n",
       "7  Advanced Materials                    0       0   \n",
       "8    Adventure Travel                    1       0   \n",
       "9         Advertising                    0       0   \n",
       "\n",
       "   Cleantech / Semiconductors  Entertainment  Health  Manufacturing  \\\n",
       "0                           0              0       0              0   \n",
       "1                           0              0       0              1   \n",
       "2                           0              0       0              1   \n",
       "3                           0              0       0              1   \n",
       "4                           0              0       0              0   \n",
       "5                           0              0       1              0   \n",
       "6                           0              0       0              0   \n",
       "7                           0              0       0              1   \n",
       "8                           0              0       0              0   \n",
       "9                           0              0       0              0   \n",
       "\n",
       "   News, Search and Messaging  Others  Social, Finance, Analytics, Advertising  \n",
       "0                           0       0                                        0  \n",
       "1                           0       0                                        0  \n",
       "2                           0       0                                        0  \n",
       "3                           0       0                                        0  \n",
       "4                           0       0                                        1  \n",
       "5                           0       0                                        0  \n",
       "6                           0       0                                        1  \n",
       "7                           0       0                                        0  \n",
       "8                           0       0                                        0  \n",
       "9                           0       0                                        1  "
      ]
     },
     "execution_count": 53,
     "metadata": {},
     "output_type": "execute_result"
    }
   ],
   "source": [
    "# Đọc file csv mapping thành 1 dataframe\n",
    "mapping = pd.DataFrame(pd.read_csv( 'D:/DE TAI 4/mapping.csv', sep=','))\n",
    "\n",
    "# Các quan sát đầu tiên của tập dữ liệu mapping\n",
    "mapping.head(10)"
   ]
  },
  {
   "cell_type": "markdown",
   "metadata": {
    "id": "9AQ0_BcNOBy_"
   },
   "source": [
    "Trước tiên, hãy loại bỏ các giá trị còn thiếu vì ta không thể hợp nhất các hàng đó."
   ]
  },
  {
   "cell_type": "code",
   "execution_count": 54,
   "metadata": {
    "colab": {
     "base_uri": "https://localhost:8080/"
    },
    "id": "Yspi7radOBzA",
    "outputId": "727b57dd-65a8-44cd-d615-e5e9756a53a0",
    "scrolled": true
   },
   "outputs": [
    {
     "data": {
      "text/plain": [
       "category_list                              1\n",
       "Automotive & Sports                        0\n",
       "Blanks                                     0\n",
       "Cleantech / Semiconductors                 0\n",
       "Entertainment                              0\n",
       "Health                                     0\n",
       "Manufacturing                              0\n",
       "News, Search and Messaging                 0\n",
       "Others                                     0\n",
       "Social, Finance, Analytics, Advertising    0\n",
       "dtype: int64"
      ]
     },
     "execution_count": 54,
     "metadata": {},
     "output_type": "execute_result"
    }
   ],
   "source": [
    "# Các giá trị bị thiếu trong file mapping\n",
    "mapping.isnull().sum()"
   ]
  },
  {
   "cell_type": "code",
   "execution_count": 55,
   "metadata": {
    "colab": {
     "base_uri": "https://localhost:8080/"
    },
    "id": "4kFeMfXEgSv-",
    "outputId": "8d7fb48f-e3fb-43c1-a4f4-0057a7b50ea2"
   },
   "outputs": [
    {
     "data": {
      "text/plain": [
       "category_list                              0\n",
       "Automotive & Sports                        0\n",
       "Blanks                                     0\n",
       "Cleantech / Semiconductors                 0\n",
       "Entertainment                              0\n",
       "Health                                     0\n",
       "Manufacturing                              0\n",
       "News, Search and Messaging                 0\n",
       "Others                                     0\n",
       "Social, Finance, Analytics, Advertising    0\n",
       "dtype: int64"
      ]
     },
     "execution_count": 55,
     "metadata": {},
     "output_type": "execute_result"
    }
   ],
   "source": [
    "# Loại bỏ hàng có giá trị bị thiếu\n",
    "mapping = mapping[~pd.isnull(mapping['category_list'])]\n",
    "mapping.isnull().sum()"
   ]
  },
  {
   "cell_type": "code",
   "execution_count": 56,
   "metadata": {
    "id": "V9BPhNTjggqN"
   },
   "outputs": [],
   "source": [
    "# Chuyển đổi các cột chung thành dạng chữ thường\n",
    "mapping['category_list'] = mapping['category_list'].str.lower()\n",
    "master_frame['category_list'] = master_frame['category_list'].str.lower()"
   ]
  },
  {
   "cell_type": "markdown",
   "metadata": {
    "id": "U3GYFVS9g7i6"
   },
   "source": [
    "Để có thể hợp nhất tất cả các giá trị category với cột Category_list của tệp mapping, tất cả các giá trị trong cột Category_list phải có trong cột Category_list của tệp mapping."
   ]
  },
  {
   "cell_type": "code",
   "execution_count": 57,
   "metadata": {
    "colab": {
     "base_uri": "https://localhost:8080/",
     "height": 556
    },
    "id": "uOYdLL51g8nX",
    "outputId": "fd864364-16e1-41b1-bed5-63af7604e7e5"
   },
   "outputs": [
    {
     "data": {
      "text/html": [
       "<div>\n",
       "<style scoped>\n",
       "    .dataframe tbody tr th:only-of-type {\n",
       "        vertical-align: middle;\n",
       "    }\n",
       "\n",
       "    .dataframe tbody tr th {\n",
       "        vertical-align: top;\n",
       "    }\n",
       "\n",
       "    .dataframe thead th {\n",
       "        text-align: right;\n",
       "    }\n",
       "</style>\n",
       "<table border=\"1\" class=\"dataframe\">\n",
       "  <thead>\n",
       "    <tr style=\"text-align: right;\">\n",
       "      <th></th>\n",
       "      <th>permalink</th>\n",
       "      <th>name</th>\n",
       "      <th>category_list</th>\n",
       "      <th>status</th>\n",
       "      <th>country_code</th>\n",
       "      <th>funding_round_permalink</th>\n",
       "      <th>funding_round_type</th>\n",
       "      <th>funded_at</th>\n",
       "      <th>raised_amount_usd</th>\n",
       "    </tr>\n",
       "  </thead>\n",
       "  <tbody>\n",
       "    <tr>\n",
       "      <th>10</th>\n",
       "      <td>/organization/0xdata</td>\n",
       "      <td>H2O.ai</td>\n",
       "      <td>analytics</td>\n",
       "      <td>operating</td>\n",
       "      <td>USA</td>\n",
       "      <td>/funding-round/3bb2ee4a2d89251a10aaa735b1180e44</td>\n",
       "      <td>venture</td>\n",
       "      <td>09-11-2015</td>\n",
       "      <td>20.00</td>\n",
       "    </tr>\n",
       "    <tr>\n",
       "      <th>11</th>\n",
       "      <td>/organization/0xdata</td>\n",
       "      <td>H2O.ai</td>\n",
       "      <td>analytics</td>\n",
       "      <td>operating</td>\n",
       "      <td>USA</td>\n",
       "      <td>/funding-round/ae2a174c06517c2394aed45006322a7e</td>\n",
       "      <td>venture</td>\n",
       "      <td>03-01-2013</td>\n",
       "      <td>1.70</td>\n",
       "    </tr>\n",
       "    <tr>\n",
       "      <th>12</th>\n",
       "      <td>/organization/0xdata</td>\n",
       "      <td>H2O.ai</td>\n",
       "      <td>analytics</td>\n",
       "      <td>operating</td>\n",
       "      <td>USA</td>\n",
       "      <td>/funding-round/e1cfcbe1bdf4c70277c5f29a3482f24e</td>\n",
       "      <td>venture</td>\n",
       "      <td>19-07-2014</td>\n",
       "      <td>8.90</td>\n",
       "    </tr>\n",
       "    <tr>\n",
       "      <th>61</th>\n",
       "      <td>/organization/100plus</td>\n",
       "      <td>100Plus</td>\n",
       "      <td>analytics</td>\n",
       "      <td>acquired</td>\n",
       "      <td>USA</td>\n",
       "      <td>/funding-round/b5facb0d9dea2f0352b5834892c88c53</td>\n",
       "      <td>venture</td>\n",
       "      <td>02-11-2011</td>\n",
       "      <td>0.50</td>\n",
       "    </tr>\n",
       "    <tr>\n",
       "      <th>148</th>\n",
       "      <td>/organization/19pay</td>\n",
       "      <td>19pay</td>\n",
       "      <td>finance</td>\n",
       "      <td>operating</td>\n",
       "      <td>CHN</td>\n",
       "      <td>/funding-round/61660637eae067a2980ecbc3633ad262</td>\n",
       "      <td>venture</td>\n",
       "      <td>01-01-2010</td>\n",
       "      <td>6.23</td>\n",
       "    </tr>\n",
       "    <tr>\n",
       "      <th>198</th>\n",
       "      <td>/organization/1world-online</td>\n",
       "      <td>1World Online</td>\n",
       "      <td>analytics</td>\n",
       "      <td>operating</td>\n",
       "      <td>USA</td>\n",
       "      <td>/funding-round/32936e588a134502712877150198a0b3</td>\n",
       "      <td>venture</td>\n",
       "      <td>13-08-2015</td>\n",
       "      <td>2.50</td>\n",
       "    </tr>\n",
       "    <tr>\n",
       "      <th>199</th>\n",
       "      <td>/organization/1world-online</td>\n",
       "      <td>1World Online</td>\n",
       "      <td>analytics</td>\n",
       "      <td>operating</td>\n",
       "      <td>USA</td>\n",
       "      <td>/funding-round/4e30bd5c85d8163239a3479ec979647a</td>\n",
       "      <td>venture</td>\n",
       "      <td>01-12-2013</td>\n",
       "      <td>0.50</td>\n",
       "    </tr>\n",
       "    <tr>\n",
       "      <th>200</th>\n",
       "      <td>/organization/1world-online</td>\n",
       "      <td>1World Online</td>\n",
       "      <td>analytics</td>\n",
       "      <td>operating</td>\n",
       "      <td>USA</td>\n",
       "      <td>/funding-round/a349bfd7a8d48cfc8b9fdb79480dea7f</td>\n",
       "      <td>venture</td>\n",
       "      <td>02-07-2013</td>\n",
       "      <td>1.00</td>\n",
       "    </tr>\n",
       "    <tr>\n",
       "      <th>256</th>\n",
       "      <td>/organization/24-7-card</td>\n",
       "      <td>24/7 Card</td>\n",
       "      <td>finance</td>\n",
       "      <td>closed</td>\n",
       "      <td>USA</td>\n",
       "      <td>/funding-round/0c38194ff2035185c96155dfad18f3bd</td>\n",
       "      <td>venture</td>\n",
       "      <td>21-12-2011</td>\n",
       "      <td>3.45</td>\n",
       "    </tr>\n",
       "    <tr>\n",
       "      <th>713</th>\n",
       "      <td>/organization/51credit-com</td>\n",
       "      <td>51credit.com</td>\n",
       "      <td>finance</td>\n",
       "      <td>operating</td>\n",
       "      <td>CHN</td>\n",
       "      <td>/funding-round/c6cf4de96a3b60c12cd5d4c2d63caf70</td>\n",
       "      <td>venture</td>\n",
       "      <td>01-07-2007</td>\n",
       "      <td>10.00</td>\n",
       "    </tr>\n",
       "  </tbody>\n",
       "</table>\n",
       "</div>"
      ],
      "text/plain": [
       "                       permalink           name category_list     status  \\\n",
       "10          /organization/0xdata         H2O.ai     analytics  operating   \n",
       "11          /organization/0xdata         H2O.ai     analytics  operating   \n",
       "12          /organization/0xdata         H2O.ai     analytics  operating   \n",
       "61         /organization/100plus        100Plus     analytics   acquired   \n",
       "148          /organization/19pay          19pay       finance  operating   \n",
       "198  /organization/1world-online  1World Online     analytics  operating   \n",
       "199  /organization/1world-online  1World Online     analytics  operating   \n",
       "200  /organization/1world-online  1World Online     analytics  operating   \n",
       "256      /organization/24-7-card      24/7 Card       finance     closed   \n",
       "713   /organization/51credit-com   51credit.com       finance  operating   \n",
       "\n",
       "    country_code                          funding_round_permalink  \\\n",
       "10           USA  /funding-round/3bb2ee4a2d89251a10aaa735b1180e44   \n",
       "11           USA  /funding-round/ae2a174c06517c2394aed45006322a7e   \n",
       "12           USA  /funding-round/e1cfcbe1bdf4c70277c5f29a3482f24e   \n",
       "61           USA  /funding-round/b5facb0d9dea2f0352b5834892c88c53   \n",
       "148          CHN  /funding-round/61660637eae067a2980ecbc3633ad262   \n",
       "198          USA  /funding-round/32936e588a134502712877150198a0b3   \n",
       "199          USA  /funding-round/4e30bd5c85d8163239a3479ec979647a   \n",
       "200          USA  /funding-round/a349bfd7a8d48cfc8b9fdb79480dea7f   \n",
       "256          USA  /funding-round/0c38194ff2035185c96155dfad18f3bd   \n",
       "713          CHN  /funding-round/c6cf4de96a3b60c12cd5d4c2d63caf70   \n",
       "\n",
       "    funding_round_type   funded_at  raised_amount_usd  \n",
       "10             venture  09-11-2015              20.00  \n",
       "11             venture  03-01-2013               1.70  \n",
       "12             venture  19-07-2014               8.90  \n",
       "61             venture  02-11-2011               0.50  \n",
       "148            venture  01-01-2010               6.23  \n",
       "198            venture  13-08-2015               2.50  \n",
       "199            venture  01-12-2013               0.50  \n",
       "200            venture  02-07-2013               1.00  \n",
       "256            venture  21-12-2011               3.45  \n",
       "713            venture  01-07-2007              10.00  "
      ]
     },
     "execution_count": 57,
     "metadata": {},
     "output_type": "execute_result"
    }
   ],
   "source": [
    "# Các giá trị trong cột category_list của bảng master không xuất hiện trong cột category_list của file mapping\n",
    "master_frame[~master_frame['category_list'].isin(mapping['category_list'])].head(10)"
   ]
  },
  {
   "cell_type": "markdown",
   "metadata": {
    "id": "V3CTi7F8hRTZ"
   },
   "source": [
    "Lưu ý rằng các giá trị như 'analytics', 'business analytics', 'finance', 'nanatechnology' etc. không có trong tệp mapping.\n",
    "\n",
    "Ta xem xét các giá trị có trong tệp mapping nhưng không có trong dataframe master"
   ]
  },
  {
   "cell_type": "code",
   "execution_count": 58,
   "metadata": {
    "colab": {
     "base_uri": "https://localhost:8080/",
     "height": 467
    },
    "id": "zWU7hUNlhSCF",
    "outputId": "707e0c61-245d-44f0-e5f6-35f3755f9ab7"
   },
   "outputs": [
    {
     "data": {
      "text/html": [
       "<div>\n",
       "<style scoped>\n",
       "    .dataframe tbody tr th:only-of-type {\n",
       "        vertical-align: middle;\n",
       "    }\n",
       "\n",
       "    .dataframe tbody tr th {\n",
       "        vertical-align: top;\n",
       "    }\n",
       "\n",
       "    .dataframe thead th {\n",
       "        text-align: right;\n",
       "    }\n",
       "</style>\n",
       "<table border=\"1\" class=\"dataframe\">\n",
       "  <thead>\n",
       "    <tr style=\"text-align: right;\">\n",
       "      <th></th>\n",
       "      <th>category_list</th>\n",
       "      <th>Automotive &amp; Sports</th>\n",
       "      <th>Blanks</th>\n",
       "      <th>Cleantech / Semiconductors</th>\n",
       "      <th>Entertainment</th>\n",
       "      <th>Health</th>\n",
       "      <th>Manufacturing</th>\n",
       "      <th>News, Search and Messaging</th>\n",
       "      <th>Others</th>\n",
       "      <th>Social, Finance, Analytics, Advertising</th>\n",
       "    </tr>\n",
       "  </thead>\n",
       "  <tbody>\n",
       "    <tr>\n",
       "      <th>20</th>\n",
       "      <td>alter0tive medicine</td>\n",
       "      <td>0</td>\n",
       "      <td>0</td>\n",
       "      <td>0</td>\n",
       "      <td>0</td>\n",
       "      <td>1</td>\n",
       "      <td>0</td>\n",
       "      <td>0</td>\n",
       "      <td>0</td>\n",
       "      <td>0</td>\n",
       "    </tr>\n",
       "    <tr>\n",
       "      <th>22</th>\n",
       "      <td>a0lytics</td>\n",
       "      <td>0</td>\n",
       "      <td>0</td>\n",
       "      <td>0</td>\n",
       "      <td>0</td>\n",
       "      <td>0</td>\n",
       "      <td>0</td>\n",
       "      <td>0</td>\n",
       "      <td>0</td>\n",
       "      <td>1</td>\n",
       "    </tr>\n",
       "    <tr>\n",
       "      <th>59</th>\n",
       "      <td>big data a0lytics</td>\n",
       "      <td>0</td>\n",
       "      <td>0</td>\n",
       "      <td>0</td>\n",
       "      <td>0</td>\n",
       "      <td>0</td>\n",
       "      <td>0</td>\n",
       "      <td>0</td>\n",
       "      <td>0</td>\n",
       "      <td>1</td>\n",
       "    </tr>\n",
       "    <tr>\n",
       "      <th>79</th>\n",
       "      <td>business a0lytics</td>\n",
       "      <td>0</td>\n",
       "      <td>0</td>\n",
       "      <td>0</td>\n",
       "      <td>0</td>\n",
       "      <td>0</td>\n",
       "      <td>0</td>\n",
       "      <td>0</td>\n",
       "      <td>0</td>\n",
       "      <td>1</td>\n",
       "    </tr>\n",
       "    <tr>\n",
       "      <th>89</th>\n",
       "      <td>can0bis</td>\n",
       "      <td>0</td>\n",
       "      <td>0</td>\n",
       "      <td>0</td>\n",
       "      <td>0</td>\n",
       "      <td>1</td>\n",
       "      <td>0</td>\n",
       "      <td>0</td>\n",
       "      <td>0</td>\n",
       "      <td>0</td>\n",
       "    </tr>\n",
       "    <tr>\n",
       "      <th>91</th>\n",
       "      <td>career ma0gement</td>\n",
       "      <td>0</td>\n",
       "      <td>0</td>\n",
       "      <td>0</td>\n",
       "      <td>0</td>\n",
       "      <td>0</td>\n",
       "      <td>0</td>\n",
       "      <td>0</td>\n",
       "      <td>0</td>\n",
       "      <td>1</td>\n",
       "    </tr>\n",
       "    <tr>\n",
       "      <th>103</th>\n",
       "      <td>chi0 internet</td>\n",
       "      <td>0</td>\n",
       "      <td>0</td>\n",
       "      <td>0</td>\n",
       "      <td>0</td>\n",
       "      <td>0</td>\n",
       "      <td>0</td>\n",
       "      <td>1</td>\n",
       "      <td>0</td>\n",
       "      <td>0</td>\n",
       "    </tr>\n",
       "    <tr>\n",
       "      <th>114</th>\n",
       "      <td>cloud ma0gement</td>\n",
       "      <td>0</td>\n",
       "      <td>0</td>\n",
       "      <td>0</td>\n",
       "      <td>0</td>\n",
       "      <td>0</td>\n",
       "      <td>0</td>\n",
       "      <td>1</td>\n",
       "      <td>0</td>\n",
       "      <td>0</td>\n",
       "    </tr>\n",
       "    <tr>\n",
       "      <th>145</th>\n",
       "      <td>contact ma0gement</td>\n",
       "      <td>0</td>\n",
       "      <td>0</td>\n",
       "      <td>0</td>\n",
       "      <td>0</td>\n",
       "      <td>0</td>\n",
       "      <td>0</td>\n",
       "      <td>0</td>\n",
       "      <td>0</td>\n",
       "      <td>1</td>\n",
       "    </tr>\n",
       "    <tr>\n",
       "      <th>198</th>\n",
       "      <td>digital rights ma0gement</td>\n",
       "      <td>0</td>\n",
       "      <td>0</td>\n",
       "      <td>0</td>\n",
       "      <td>1</td>\n",
       "      <td>0</td>\n",
       "      <td>0</td>\n",
       "      <td>0</td>\n",
       "      <td>0</td>\n",
       "      <td>0</td>\n",
       "    </tr>\n",
       "  </tbody>\n",
       "</table>\n",
       "</div>"
      ],
      "text/plain": [
       "                category_list  Automotive & Sports  Blanks  \\\n",
       "20        alter0tive medicine                    0       0   \n",
       "22                   a0lytics                    0       0   \n",
       "59          big data a0lytics                    0       0   \n",
       "79          business a0lytics                    0       0   \n",
       "89                    can0bis                    0       0   \n",
       "91           career ma0gement                    0       0   \n",
       "103             chi0 internet                    0       0   \n",
       "114           cloud ma0gement                    0       0   \n",
       "145         contact ma0gement                    0       0   \n",
       "198  digital rights ma0gement                    0       0   \n",
       "\n",
       "     Cleantech / Semiconductors  Entertainment  Health  Manufacturing  \\\n",
       "20                            0              0       1              0   \n",
       "22                            0              0       0              0   \n",
       "59                            0              0       0              0   \n",
       "79                            0              0       0              0   \n",
       "89                            0              0       1              0   \n",
       "91                            0              0       0              0   \n",
       "103                           0              0       0              0   \n",
       "114                           0              0       0              0   \n",
       "145                           0              0       0              0   \n",
       "198                           0              1       0              0   \n",
       "\n",
       "     News, Search and Messaging  Others  \\\n",
       "20                            0       0   \n",
       "22                            0       0   \n",
       "59                            0       0   \n",
       "79                            0       0   \n",
       "89                            0       0   \n",
       "91                            0       0   \n",
       "103                           1       0   \n",
       "114                           1       0   \n",
       "145                           0       0   \n",
       "198                           0       0   \n",
       "\n",
       "     Social, Finance, Analytics, Advertising  \n",
       "20                                         0  \n",
       "22                                         1  \n",
       "59                                         1  \n",
       "79                                         1  \n",
       "89                                         0  \n",
       "91                                         1  \n",
       "103                                        0  \n",
       "114                                        0  \n",
       "145                                        1  \n",
       "198                                        0  "
      ]
     },
     "execution_count": 58,
     "metadata": {},
     "output_type": "execute_result"
    }
   ],
   "source": [
    "# Các giá trị trong cột category_list của file mapping không xuất hiện trong cột category_list của bảng master\n",
    "mapping.loc[mapping.category_list.str.contains('0')].head(10)"
   ]
  },
  {
   "cell_type": "markdown",
   "metadata": {
    "id": "AJ3asi_FhvyA"
   },
   "source": [
    "Nếu quan sát kỹ, ta có thể nhận thấy điểm bất thường - có những lĩnh vực được đặt tên là alter0tive medicine, a0lytics, waste ma0gement, veteri0ry, etc. Đây không phải là vấn đề ngẫu nhiên mà là một lỗi văn bản. Trong một số chuỗi, 'na' đã được thay thế bằng '0'. Ta giải quyết vấn đề này bằng cách thay thế '0' bằng 'na' trong cột Category_list."
   ]
  },
  {
   "cell_type": "code",
   "execution_count": 59,
   "metadata": {
    "colab": {
     "base_uri": "https://localhost:8080/",
     "height": 432
    },
    "id": "sq23QOY7hpKI",
    "outputId": "9e3148b3-d6df-4e70-9ff5-fbc82ba908d0"
   },
   "outputs": [
    {
     "data": {
      "text/html": [
       "<div>\n",
       "<style scoped>\n",
       "    .dataframe tbody tr th:only-of-type {\n",
       "        vertical-align: middle;\n",
       "    }\n",
       "\n",
       "    .dataframe tbody tr th {\n",
       "        vertical-align: top;\n",
       "    }\n",
       "\n",
       "    .dataframe thead th {\n",
       "        text-align: right;\n",
       "    }\n",
       "</style>\n",
       "<table border=\"1\" class=\"dataframe\">\n",
       "  <thead>\n",
       "    <tr style=\"text-align: right;\">\n",
       "      <th></th>\n",
       "      <th>category_list</th>\n",
       "      <th>Automotive &amp; Sports</th>\n",
       "      <th>Blanks</th>\n",
       "      <th>Cleantech / Semiconductors</th>\n",
       "      <th>Entertainment</th>\n",
       "      <th>Health</th>\n",
       "      <th>Manufacturing</th>\n",
       "      <th>News, Search and Messaging</th>\n",
       "      <th>Others</th>\n",
       "      <th>Social, Finance, Analytics, Advertising</th>\n",
       "    </tr>\n",
       "  </thead>\n",
       "  <tbody>\n",
       "    <tr>\n",
       "      <th>1</th>\n",
       "      <td>3d</td>\n",
       "      <td>0</td>\n",
       "      <td>0</td>\n",
       "      <td>0</td>\n",
       "      <td>0</td>\n",
       "      <td>0</td>\n",
       "      <td>1</td>\n",
       "      <td>0</td>\n",
       "      <td>0</td>\n",
       "      <td>0</td>\n",
       "    </tr>\n",
       "    <tr>\n",
       "      <th>2</th>\n",
       "      <td>3d printing</td>\n",
       "      <td>0</td>\n",
       "      <td>0</td>\n",
       "      <td>0</td>\n",
       "      <td>0</td>\n",
       "      <td>0</td>\n",
       "      <td>1</td>\n",
       "      <td>0</td>\n",
       "      <td>0</td>\n",
       "      <td>0</td>\n",
       "    </tr>\n",
       "    <tr>\n",
       "      <th>3</th>\n",
       "      <td>3d technology</td>\n",
       "      <td>0</td>\n",
       "      <td>0</td>\n",
       "      <td>0</td>\n",
       "      <td>0</td>\n",
       "      <td>0</td>\n",
       "      <td>1</td>\n",
       "      <td>0</td>\n",
       "      <td>0</td>\n",
       "      <td>0</td>\n",
       "    </tr>\n",
       "    <tr>\n",
       "      <th>4</th>\n",
       "      <td>accounting</td>\n",
       "      <td>0</td>\n",
       "      <td>0</td>\n",
       "      <td>0</td>\n",
       "      <td>0</td>\n",
       "      <td>0</td>\n",
       "      <td>0</td>\n",
       "      <td>0</td>\n",
       "      <td>0</td>\n",
       "      <td>1</td>\n",
       "    </tr>\n",
       "    <tr>\n",
       "      <th>5</th>\n",
       "      <td>active lifestyle</td>\n",
       "      <td>0</td>\n",
       "      <td>0</td>\n",
       "      <td>0</td>\n",
       "      <td>0</td>\n",
       "      <td>1</td>\n",
       "      <td>0</td>\n",
       "      <td>0</td>\n",
       "      <td>0</td>\n",
       "      <td>0</td>\n",
       "    </tr>\n",
       "    <tr>\n",
       "      <th>6</th>\n",
       "      <td>ad targeting</td>\n",
       "      <td>0</td>\n",
       "      <td>0</td>\n",
       "      <td>0</td>\n",
       "      <td>0</td>\n",
       "      <td>0</td>\n",
       "      <td>0</td>\n",
       "      <td>0</td>\n",
       "      <td>0</td>\n",
       "      <td>1</td>\n",
       "    </tr>\n",
       "    <tr>\n",
       "      <th>7</th>\n",
       "      <td>advanced materials</td>\n",
       "      <td>0</td>\n",
       "      <td>0</td>\n",
       "      <td>0</td>\n",
       "      <td>0</td>\n",
       "      <td>0</td>\n",
       "      <td>1</td>\n",
       "      <td>0</td>\n",
       "      <td>0</td>\n",
       "      <td>0</td>\n",
       "    </tr>\n",
       "    <tr>\n",
       "      <th>8</th>\n",
       "      <td>adventure travel</td>\n",
       "      <td>1</td>\n",
       "      <td>0</td>\n",
       "      <td>0</td>\n",
       "      <td>0</td>\n",
       "      <td>0</td>\n",
       "      <td>0</td>\n",
       "      <td>0</td>\n",
       "      <td>0</td>\n",
       "      <td>0</td>\n",
       "    </tr>\n",
       "    <tr>\n",
       "      <th>9</th>\n",
       "      <td>advertising</td>\n",
       "      <td>0</td>\n",
       "      <td>0</td>\n",
       "      <td>0</td>\n",
       "      <td>0</td>\n",
       "      <td>0</td>\n",
       "      <td>0</td>\n",
       "      <td>0</td>\n",
       "      <td>0</td>\n",
       "      <td>1</td>\n",
       "    </tr>\n",
       "    <tr>\n",
       "      <th>10</th>\n",
       "      <td>advertising exchanges</td>\n",
       "      <td>0</td>\n",
       "      <td>0</td>\n",
       "      <td>0</td>\n",
       "      <td>0</td>\n",
       "      <td>0</td>\n",
       "      <td>0</td>\n",
       "      <td>0</td>\n",
       "      <td>0</td>\n",
       "      <td>1</td>\n",
       "    </tr>\n",
       "  </tbody>\n",
       "</table>\n",
       "</div>"
      ],
      "text/plain": [
       "            category_list  Automotive & Sports  Blanks  \\\n",
       "1                      3d                    0       0   \n",
       "2             3d printing                    0       0   \n",
       "3           3d technology                    0       0   \n",
       "4              accounting                    0       0   \n",
       "5        active lifestyle                    0       0   \n",
       "6            ad targeting                    0       0   \n",
       "7      advanced materials                    0       0   \n",
       "8        adventure travel                    1       0   \n",
       "9             advertising                    0       0   \n",
       "10  advertising exchanges                    0       0   \n",
       "\n",
       "    Cleantech / Semiconductors  Entertainment  Health  Manufacturing  \\\n",
       "1                            0              0       0              1   \n",
       "2                            0              0       0              1   \n",
       "3                            0              0       0              1   \n",
       "4                            0              0       0              0   \n",
       "5                            0              0       1              0   \n",
       "6                            0              0       0              0   \n",
       "7                            0              0       0              1   \n",
       "8                            0              0       0              0   \n",
       "9                            0              0       0              0   \n",
       "10                           0              0       0              0   \n",
       "\n",
       "    News, Search and Messaging  Others  \\\n",
       "1                            0       0   \n",
       "2                            0       0   \n",
       "3                            0       0   \n",
       "4                            0       0   \n",
       "5                            0       0   \n",
       "6                            0       0   \n",
       "7                            0       0   \n",
       "8                            0       0   \n",
       "9                            0       0   \n",
       "10                           0       0   \n",
       "\n",
       "    Social, Finance, Analytics, Advertising  \n",
       "1                                         0  \n",
       "2                                         0  \n",
       "3                                         0  \n",
       "4                                         1  \n",
       "5                                         0  \n",
       "6                                         1  \n",
       "7                                         0  \n",
       "8                                         0  \n",
       "9                                         1  \n",
       "10                                        1  "
      ]
     },
     "execution_count": 59,
     "metadata": {},
     "output_type": "execute_result"
    }
   ],
   "source": [
    "# Thay thế '0' bằng 'na'\n",
    "mapping['category_list'] = mapping['category_list'].apply(lambda x: x.replace('0', 'na'))\n",
    "mapping.head(10)"
   ]
  },
  {
   "cell_type": "code",
   "execution_count": 60,
   "metadata": {
    "_uuid": "25d587cfa6ec13910d69dd02a7baa6c910eaa822",
    "colab": {
     "base_uri": "https://localhost:8080/",
     "height": 206
    },
    "id": "VgnGC6eHOBzA",
    "outputId": "197d207a-c50d-424a-aba6-f27b32c5b6e3",
    "scrolled": true
   },
   "outputs": [
    {
     "data": {
      "text/html": [
       "<div>\n",
       "<style scoped>\n",
       "    .dataframe tbody tr th:only-of-type {\n",
       "        vertical-align: middle;\n",
       "    }\n",
       "\n",
       "    .dataframe tbody tr th {\n",
       "        vertical-align: top;\n",
       "    }\n",
       "\n",
       "    .dataframe thead th {\n",
       "        text-align: right;\n",
       "    }\n",
       "</style>\n",
       "<table border=\"1\" class=\"dataframe\">\n",
       "  <thead>\n",
       "    <tr style=\"text-align: right;\">\n",
       "      <th></th>\n",
       "      <th>category_list</th>\n",
       "      <th>main_sector</th>\n",
       "    </tr>\n",
       "  </thead>\n",
       "  <tbody>\n",
       "    <tr>\n",
       "      <th>7</th>\n",
       "      <td>adventure travel</td>\n",
       "      <td>Automotive &amp; Sports</td>\n",
       "    </tr>\n",
       "    <tr>\n",
       "      <th>13</th>\n",
       "      <td>aerospace</td>\n",
       "      <td>Automotive &amp; Sports</td>\n",
       "    </tr>\n",
       "    <tr>\n",
       "      <th>44</th>\n",
       "      <td>auto</td>\n",
       "      <td>Automotive &amp; Sports</td>\n",
       "    </tr>\n",
       "    <tr>\n",
       "      <th>45</th>\n",
       "      <td>automated kiosk</td>\n",
       "      <td>Automotive &amp; Sports</td>\n",
       "    </tr>\n",
       "    <tr>\n",
       "      <th>46</th>\n",
       "      <td>automotive</td>\n",
       "      <td>Automotive &amp; Sports</td>\n",
       "    </tr>\n",
       "  </tbody>\n",
       "</table>\n",
       "</div>"
      ],
      "text/plain": [
       "       category_list          main_sector\n",
       "7   adventure travel  Automotive & Sports\n",
       "13         aerospace  Automotive & Sports\n",
       "44              auto  Automotive & Sports\n",
       "45   automated kiosk  Automotive & Sports\n",
       "46        automotive  Automotive & Sports"
      ]
     },
     "execution_count": 60,
     "metadata": {},
     "output_type": "execute_result"
    }
   ],
   "source": [
    "# Tạo dataframe được gộp bằng cách dùng 'primary sector' kết hợp vào 'main sector' tương ứng\n",
    "# ('primary sector' nên được đặt trong một cột riêng)\n",
    "long_map = pd.melt(mapping, id_vars=['category_list'], var_name='main_sector')\n",
    "long_map = long_map[long_map['value']==1]\n",
    "long_map = long_map.drop(columns = ['value'])\n",
    "long_map.head()"
   ]
  },
  {
   "cell_type": "code",
   "execution_count": 61,
   "metadata": {
    "colab": {
     "base_uri": "https://localhost:8080/"
    },
    "id": "xPDl2FQaOBzA",
    "outputId": "2070d7ba-aa04-4040-bd1e-8b66c861eb2c"
   },
   "outputs": [
    {
     "name": "stdout",
     "output_type": "stream",
     "text": [
      "<class 'pandas.core.frame.DataFrame'>\n",
      "Index: 687 entries, 7 to 6158\n",
      "Data columns (total 2 columns):\n",
      " #   Column         Non-Null Count  Dtype \n",
      "---  ------         --------------  ----- \n",
      " 0   category_list  687 non-null    object\n",
      " 1   main_sector    687 non-null    object\n",
      "dtypes: object(2)\n",
      "memory usage: 16.1+ KB\n"
     ]
    }
   ],
   "source": [
    "# Tổng quan thông tin về dataframe\n",
    "long_map.info()"
   ]
  },
  {
   "cell_type": "code",
   "execution_count": 62,
   "metadata": {
    "_uuid": "00bf2fb4399145c54359a670f9b04d2be672cf49",
    "colab": {
     "base_uri": "https://localhost:8080/"
    },
    "id": "UZ-XCyuZOBzA",
    "outputId": "cb5a31eb-e398-4a88-e513-adbc6d8f0bba",
    "scrolled": false
   },
   "outputs": [
    {
     "name": "stdout",
     "output_type": "stream",
     "text": [
      "<class 'pandas.core.frame.DataFrame'>\n",
      "RangeIndex: 39516 entries, 0 to 39515\n",
      "Data columns (total 10 columns):\n",
      " #   Column                   Non-Null Count  Dtype  \n",
      "---  ------                   --------------  -----  \n",
      " 0   permalink                39516 non-null  object \n",
      " 1   name                     39516 non-null  object \n",
      " 2   category_list            39516 non-null  object \n",
      " 3   status                   39516 non-null  object \n",
      " 4   country_code             39516 non-null  object \n",
      " 5   funding_round_permalink  39516 non-null  object \n",
      " 6   funding_round_type       39516 non-null  object \n",
      " 7   funded_at                39516 non-null  object \n",
      " 8   raised_amount_usd        39516 non-null  float64\n",
      " 9   main_sector              39516 non-null  object \n",
      "dtypes: float64(1), object(9)\n",
      "memory usage: 3.0+ MB\n"
     ]
    }
   ],
   "source": [
    "# Gộp dataframe chứa dữ liệu của mapping với dataframe master đã được xử lý\n",
    "master_frame = pd.merge(master_frame, long_map, how = 'inner', on ='category_list')\n",
    "master_frame.info()"
   ]
  },
  {
   "cell_type": "markdown",
   "metadata": {
    "_uuid": "d2320abb9d2f3947ddddca296b12e33ac2bb49a2",
    "id": "-7fdMkiFOBzA"
   },
   "source": [
    "### Phân tích lĩnh vực đầu tư"
   ]
  },
  {
   "cell_type": "markdown",
   "metadata": {
    "id": "T4byhSacqaf2"
   },
   "source": [
    "Bây giờ ta đã có data frame với lĩnh vực chính của mỗi công ty (main_sector) được ánh xạ .\n",
    "\n",
    "Ngoài ra, còn biết được ba quốc gia hàng đầu và loại hình đầu tư phù hợp nhất . Hãy gọi ba quốc gia là 'Quốc gia 1', 'Quốc gia 2' và 'Quốc gia 3' và loại hình tài trợ là 'FT'.\n",
    "\n",
    "Bây giờ, mục đích là tìm ra các lĩnh vực chính được đầu tư nhiều nhất ở mỗi quốc gia trong số ba quốc gia (đối với loại hình tài trợ FT).\n",
    "\n",
    "Tạo data frame riêng biệt D1, D2 và D3 cho mỗi quốc gia trong số ba quốc gia chứa các quan sát về loại tài trợ FT . Ba data frame phải chứa:\n",
    "\n",
    "+ Tất cả các cột của master_frame cùng với khu vực chính\n",
    "\n",
    "+ Tổng số (hoặc số) khoản đầu tư cho từng lĩnh vực chính trong một cột riêng\n",
    "\n",
    "+ Tổng số tiền đầu tư vào từng lĩnh vực chính ghi ở cột riêng\n",
    "\n",
    "Từ ba data frame, ta có thể thấy được tổng số lượng và số tiền đầu tư vào từng lĩnh vực chính."
   ]
  },
  {
   "cell_type": "code",
   "execution_count": 63,
   "metadata": {
    "_uuid": "6487b54eac6b07c36f2255495dcab2f6bbdd84a3",
    "colab": {
     "base_uri": "https://localhost:8080/",
     "height": 400
    },
    "id": "EKo24jhiOBzB",
    "outputId": "219eba79-12b7-48ec-f62c-1cf54e70a68f"
   },
   "outputs": [
    {
     "data": {
      "text/html": [
       "<div>\n",
       "<style scoped>\n",
       "    .dataframe tbody tr th:only-of-type {\n",
       "        vertical-align: middle;\n",
       "    }\n",
       "\n",
       "    .dataframe tbody tr th {\n",
       "        vertical-align: top;\n",
       "    }\n",
       "\n",
       "    .dataframe thead th {\n",
       "        text-align: right;\n",
       "    }\n",
       "</style>\n",
       "<table border=\"1\" class=\"dataframe\">\n",
       "  <thead>\n",
       "    <tr style=\"text-align: right;\">\n",
       "      <th></th>\n",
       "      <th>permalink</th>\n",
       "      <th>name</th>\n",
       "      <th>category_list</th>\n",
       "      <th>status</th>\n",
       "      <th>country_code</th>\n",
       "      <th>funding_round_permalink</th>\n",
       "      <th>funding_round_type</th>\n",
       "      <th>funded_at</th>\n",
       "      <th>raised_amount_usd</th>\n",
       "      <th>main_sector</th>\n",
       "    </tr>\n",
       "  </thead>\n",
       "  <tbody>\n",
       "    <tr>\n",
       "      <th>0</th>\n",
       "      <td>/organization/0-6-com</td>\n",
       "      <td>0-6.com</td>\n",
       "      <td>curated web</td>\n",
       "      <td>operating</td>\n",
       "      <td>CHN</td>\n",
       "      <td>/funding-round/5727accaeaa57461bd22a9bdd945382d</td>\n",
       "      <td>venture</td>\n",
       "      <td>19-03-2008</td>\n",
       "      <td>2.0</td>\n",
       "      <td>News, Search and Messaging</td>\n",
       "    </tr>\n",
       "    <tr>\n",
       "      <th>1</th>\n",
       "      <td>/organization/0xdata</td>\n",
       "      <td>H2O.ai</td>\n",
       "      <td>analytics</td>\n",
       "      <td>operating</td>\n",
       "      <td>USA</td>\n",
       "      <td>/funding-round/3bb2ee4a2d89251a10aaa735b1180e44</td>\n",
       "      <td>venture</td>\n",
       "      <td>09-11-2015</td>\n",
       "      <td>20.0</td>\n",
       "      <td>Social, Finance, Analytics, Advertising</td>\n",
       "    </tr>\n",
       "    <tr>\n",
       "      <th>2</th>\n",
       "      <td>/organization/0xdata</td>\n",
       "      <td>H2O.ai</td>\n",
       "      <td>analytics</td>\n",
       "      <td>operating</td>\n",
       "      <td>USA</td>\n",
       "      <td>/funding-round/ae2a174c06517c2394aed45006322a7e</td>\n",
       "      <td>venture</td>\n",
       "      <td>03-01-2013</td>\n",
       "      <td>1.7</td>\n",
       "      <td>Social, Finance, Analytics, Advertising</td>\n",
       "    </tr>\n",
       "    <tr>\n",
       "      <th>3</th>\n",
       "      <td>/organization/0xdata</td>\n",
       "      <td>H2O.ai</td>\n",
       "      <td>analytics</td>\n",
       "      <td>operating</td>\n",
       "      <td>USA</td>\n",
       "      <td>/funding-round/e1cfcbe1bdf4c70277c5f29a3482f24e</td>\n",
       "      <td>venture</td>\n",
       "      <td>19-07-2014</td>\n",
       "      <td>8.9</td>\n",
       "      <td>Social, Finance, Analytics, Advertising</td>\n",
       "    </tr>\n",
       "    <tr>\n",
       "      <th>4</th>\n",
       "      <td>/organization/1-mainstream</td>\n",
       "      <td>1 Mainstream</td>\n",
       "      <td>apps</td>\n",
       "      <td>acquired</td>\n",
       "      <td>USA</td>\n",
       "      <td>/funding-round/b952cbaf401f310927430c97b68162ea</td>\n",
       "      <td>venture</td>\n",
       "      <td>17-03-2015</td>\n",
       "      <td>5.0</td>\n",
       "      <td>News, Search and Messaging</td>\n",
       "    </tr>\n",
       "  </tbody>\n",
       "</table>\n",
       "</div>"
      ],
      "text/plain": [
       "                    permalink          name category_list     status  \\\n",
       "0       /organization/0-6-com       0-6.com   curated web  operating   \n",
       "1        /organization/0xdata        H2O.ai     analytics  operating   \n",
       "2        /organization/0xdata        H2O.ai     analytics  operating   \n",
       "3        /organization/0xdata        H2O.ai     analytics  operating   \n",
       "4  /organization/1-mainstream  1 Mainstream          apps   acquired   \n",
       "\n",
       "  country_code                          funding_round_permalink  \\\n",
       "0          CHN  /funding-round/5727accaeaa57461bd22a9bdd945382d   \n",
       "1          USA  /funding-round/3bb2ee4a2d89251a10aaa735b1180e44   \n",
       "2          USA  /funding-round/ae2a174c06517c2394aed45006322a7e   \n",
       "3          USA  /funding-round/e1cfcbe1bdf4c70277c5f29a3482f24e   \n",
       "4          USA  /funding-round/b952cbaf401f310927430c97b68162ea   \n",
       "\n",
       "  funding_round_type   funded_at  raised_amount_usd  \\\n",
       "0            venture  19-03-2008                2.0   \n",
       "1            venture  09-11-2015               20.0   \n",
       "2            venture  03-01-2013                1.7   \n",
       "3            venture  19-07-2014                8.9   \n",
       "4            venture  17-03-2015                5.0   \n",
       "\n",
       "                               main_sector  \n",
       "0               News, Search and Messaging  \n",
       "1  Social, Finance, Analytics, Advertising  \n",
       "2  Social, Finance, Analytics, Advertising  \n",
       "3  Social, Finance, Analytics, Advertising  \n",
       "4               News, Search and Messaging  "
      ]
     },
     "execution_count": 63,
     "metadata": {},
     "output_type": "execute_result"
    }
   ],
   "source": [
    "# Tổng hợp số lượng và tổng giá trị đầu tư rủi ro theo ngành nghề qua ba quốc gia\n",
    "master_frame.head()"
   ]
  },
  {
   "cell_type": "code",
   "execution_count": 64,
   "metadata": {
    "_uuid": "07728945ecc768a7d62e9aacb4faf2f268821dcc",
    "id": "uxVgAP3POBzB"
   },
   "outputs": [],
   "source": [
    "# Dataframe chứa công ty từ quốc gia đầu tiên 'USA' cho hình thức đầu tư Venture\n",
    "D1 = master_frame[master_frame.country_code == 'USA']\n",
    "# Dataframe chứa công ty từ quốc gia thứ hai 'China' cho hình thức đầu tư Venture\n",
    "D2 = master_frame[master_frame.country_code == 'CHN']\n",
    "# Dataframe chứa công ty từ quốc gia thứ ba 'Great Britain' cho hình thức đầu tư Venture\n",
    "D3 = master_frame[master_frame.country_code == 'GBR']"
   ]
  },
  {
   "cell_type": "code",
   "execution_count": 65,
   "metadata": {
    "_uuid": "2330e27c81c178ce1ad2183d642a9d075d53f7cf",
    "colab": {
     "base_uri": "https://localhost:8080/",
     "height": 833
    },
    "id": "gv4vMTN-OBzB",
    "outputId": "16b82beb-b1f4-4610-c59a-78d6d489fcdb",
    "scrolled": true
   },
   "outputs": [
    {
     "data": {
      "text/html": [
       "<div>\n",
       "<style scoped>\n",
       "    .dataframe tbody tr th:only-of-type {\n",
       "        vertical-align: middle;\n",
       "    }\n",
       "\n",
       "    .dataframe tbody tr th {\n",
       "        vertical-align: top;\n",
       "    }\n",
       "\n",
       "    .dataframe thead th {\n",
       "        text-align: right;\n",
       "    }\n",
       "</style>\n",
       "<table border=\"1\" class=\"dataframe\">\n",
       "  <thead>\n",
       "    <tr style=\"text-align: right;\">\n",
       "      <th></th>\n",
       "      <th></th>\n",
       "      <th>count</th>\n",
       "      <th>sum</th>\n",
       "    </tr>\n",
       "    <tr>\n",
       "      <th>country_code</th>\n",
       "      <th>main_sector</th>\n",
       "      <th></th>\n",
       "      <th></th>\n",
       "    </tr>\n",
       "  </thead>\n",
       "  <tbody>\n",
       "    <tr>\n",
       "      <th rowspan=\"8\" valign=\"top\">CHN</th>\n",
       "      <th>Automotive &amp; Sports</th>\n",
       "      <td>30</td>\n",
       "      <td>1066.99</td>\n",
       "    </tr>\n",
       "    <tr>\n",
       "      <th>Cleantech / Semiconductors</th>\n",
       "      <td>109</td>\n",
       "      <td>1669.15</td>\n",
       "    </tr>\n",
       "    <tr>\n",
       "      <th>Entertainment</th>\n",
       "      <td>189</td>\n",
       "      <td>3486.62</td>\n",
       "    </tr>\n",
       "    <tr>\n",
       "      <th>Health</th>\n",
       "      <td>99</td>\n",
       "      <td>4402.22</td>\n",
       "    </tr>\n",
       "    <tr>\n",
       "      <th>Manufacturing</th>\n",
       "      <td>116</td>\n",
       "      <td>3424.21</td>\n",
       "    </tr>\n",
       "    <tr>\n",
       "      <th>News, Search and Messaging</th>\n",
       "      <td>255</td>\n",
       "      <td>6580.72</td>\n",
       "    </tr>\n",
       "    <tr>\n",
       "      <th>Others</th>\n",
       "      <td>468</td>\n",
       "      <td>9262.30</td>\n",
       "    </tr>\n",
       "    <tr>\n",
       "      <th>Social, Finance, Analytics, Advertising</th>\n",
       "      <td>281</td>\n",
       "      <td>9443.34</td>\n",
       "    </tr>\n",
       "    <tr>\n",
       "      <th rowspan=\"8\" valign=\"top\">GBR</th>\n",
       "      <th>Automotive &amp; Sports</th>\n",
       "      <td>44</td>\n",
       "      <td>480.90</td>\n",
       "    </tr>\n",
       "    <tr>\n",
       "      <th>Cleantech / Semiconductors</th>\n",
       "      <td>442</td>\n",
       "      <td>5073.30</td>\n",
       "    </tr>\n",
       "    <tr>\n",
       "      <th>Entertainment</th>\n",
       "      <td>136</td>\n",
       "      <td>1162.58</td>\n",
       "    </tr>\n",
       "    <tr>\n",
       "      <th>Health</th>\n",
       "      <td>118</td>\n",
       "      <td>1046.61</td>\n",
       "    </tr>\n",
       "    <tr>\n",
       "      <th>Manufacturing</th>\n",
       "      <td>122</td>\n",
       "      <td>1019.30</td>\n",
       "    </tr>\n",
       "    <tr>\n",
       "      <th>News, Search and Messaging</th>\n",
       "      <td>241</td>\n",
       "      <td>2955.99</td>\n",
       "    </tr>\n",
       "    <tr>\n",
       "      <th>Others</th>\n",
       "      <td>516</td>\n",
       "      <td>4492.22</td>\n",
       "    </tr>\n",
       "    <tr>\n",
       "      <th>Social, Finance, Analytics, Advertising</th>\n",
       "      <td>421</td>\n",
       "      <td>3773.30</td>\n",
       "    </tr>\n",
       "    <tr>\n",
       "      <th rowspan=\"8\" valign=\"top\">USA</th>\n",
       "      <th>Automotive &amp; Sports</th>\n",
       "      <td>505</td>\n",
       "      <td>11632.14</td>\n",
       "    </tr>\n",
       "    <tr>\n",
       "      <th>Cleantech / Semiconductors</th>\n",
       "      <td>7996</td>\n",
       "      <td>119931.73</td>\n",
       "    </tr>\n",
       "    <tr>\n",
       "      <th>Entertainment</th>\n",
       "      <td>1794</td>\n",
       "      <td>17014.61</td>\n",
       "    </tr>\n",
       "    <tr>\n",
       "      <th>Health</th>\n",
       "      <td>3269</td>\n",
       "      <td>31675.04</td>\n",
       "    </tr>\n",
       "    <tr>\n",
       "      <th>Manufacturing</th>\n",
       "      <td>2453</td>\n",
       "      <td>24845.23</td>\n",
       "    </tr>\n",
       "    <tr>\n",
       "      <th>News, Search and Messaging</th>\n",
       "      <td>4356</td>\n",
       "      <td>45600.36</td>\n",
       "    </tr>\n",
       "    <tr>\n",
       "      <th>Others</th>\n",
       "      <td>8310</td>\n",
       "      <td>82796.83</td>\n",
       "    </tr>\n",
       "    <tr>\n",
       "      <th>Social, Finance, Analytics, Advertising</th>\n",
       "      <td>7246</td>\n",
       "      <td>86331.41</td>\n",
       "    </tr>\n",
       "  </tbody>\n",
       "</table>\n",
       "</div>"
      ],
      "text/plain": [
       "                                                      count        sum\n",
       "country_code main_sector                                              \n",
       "CHN          Automotive & Sports                         30    1066.99\n",
       "             Cleantech / Semiconductors                 109    1669.15\n",
       "             Entertainment                              189    3486.62\n",
       "             Health                                      99    4402.22\n",
       "             Manufacturing                              116    3424.21\n",
       "             News, Search and Messaging                 255    6580.72\n",
       "             Others                                     468    9262.30\n",
       "             Social, Finance, Analytics, Advertising    281    9443.34\n",
       "GBR          Automotive & Sports                         44     480.90\n",
       "             Cleantech / Semiconductors                 442    5073.30\n",
       "             Entertainment                              136    1162.58\n",
       "             Health                                     118    1046.61\n",
       "             Manufacturing                              122    1019.30\n",
       "             News, Search and Messaging                 241    2955.99\n",
       "             Others                                     516    4492.22\n",
       "             Social, Finance, Analytics, Advertising    421    3773.30\n",
       "USA          Automotive & Sports                        505   11632.14\n",
       "             Cleantech / Semiconductors                7996  119931.73\n",
       "             Entertainment                             1794   17014.61\n",
       "             Health                                    3269   31675.04\n",
       "             Manufacturing                             2453   24845.23\n",
       "             News, Search and Messaging                4356   45600.36\n",
       "             Others                                    8310   82796.83\n",
       "             Social, Finance, Analytics, Advertising   7246   86331.41"
      ]
     },
     "execution_count": 65,
     "metadata": {},
     "output_type": "execute_result"
    }
   ],
   "source": [
    "# Nhóm theo quốc gia, ngành ; tính số lượng và tổng\n",
    "master_frame.groupby(['country_code', 'main_sector']).raised_amount_usd.agg(['count', 'sum'])"
   ]
  },
  {
   "cell_type": "code",
   "execution_count": 66,
   "metadata": {
    "_uuid": "fc17a36d0456e88ffac0c4e3388ef70218607dbf",
    "colab": {
     "base_uri": "https://localhost:8080/",
     "height": 626
    },
    "id": "Ok_whAlmOBzB",
    "outputId": "1b39cbb9-45cc-4fc9-97e6-38b6cb1d061f",
    "scrolled": true
   },
   "outputs": [
    {
     "data": {
      "image/png": "[encoded data removed]",
      "text/plain": [
       "<Figure size 1600x1400 with 1 Axes>"
      ]
     },
     "metadata": {},
     "output_type": "display_data"
    }
   ],
   "source": [
    "# Vẽ biểu đồ tổng đầu tư theo ngành nghề trong ba quốc gia\n",
    "plt.figure(figsize=(16, 14))\n",
    "plt.subplot(2, 1, 1)\n",
    "p = sns.barplot(x='main_sector', y='raised_amount_usd', hue='country_code', \n",
    "                data=master_frame, estimator=np.sum, palette = 'Set2')\n",
    "p.set_xticklabels(p.get_xticklabels(),rotation=30)\n",
    "plt.title('Total Invested Amount (USD)', size = 15)\n",
    "plt.show()"
   ]
  },
  {
   "cell_type": "code",
   "execution_count": 67,
   "metadata": {
    "colab": {
     "base_uri": "https://localhost:8080/",
     "height": 634
    },
    "id": "s4nWO9GrOBzB",
    "outputId": "c56bbbf3-1949-4039-bd40-c6c00eefaaec"
   },
   "outputs": [
    {
     "data": {
      "image/png": "[encoded data removed]",
      "text/plain": [
       "<Figure size 1600x1400 with 1 Axes>"
      ]
     },
     "metadata": {},
     "output_type": "display_data"
    }
   ],
   "source": [
    "# Vẽ biểu đồ số lượng đầu tư theo ngành nghề trong ba quốc gia\n",
    "plt.figure(figsize=(16, 14))\n",
    "plt.subplot(2, 1, 2)\n",
    "q = sns.countplot(x='main_sector', hue='country_code', data=master_frame, palette = 'Set2')\n",
    "q.set_xticklabels(q.get_xticklabels(),rotation=30)\n",
    "plt.title('Number of Investments', size = 15)\n",
    "plt.show()"
   ]
  },
  {
   "cell_type": "markdown",
   "metadata": {
    "id": "J8esDSQfOBzC"
   },
   "source": [
    "**Như vậy, quốc gia dẫn đầu về số lượng đầu tư (và tổng số tiền đầu tư) là Mỹ. Các lĩnh vực 'Others', 'Cleantech/Semiconductors' và 'Social, Finance, Analytics, Advertising' là những lĩnh vực được đầu tư nhiều nhất.**\n",
    "\n",
    "Trong trường hợp không muốn xem 'Others' là một lĩnh vực đầu tư thì 'News, Search and Messaging' là lĩnh vực đầu tư tốt nhất tiếp theo."
   ]
  },
  {
   "cell_type": "markdown",
   "metadata": {
    "id": "LYGGxDZ5Ib9J"
   },
   "source": [
    "# **Kết luận**\n",
    "\n",
    "Trong bài này, chúng ta đã thực hiện một cuộc nghiên cứu về việc sử dụng Phân Tích Dữ Liệu Khám Phá (EDA) để phân tích mô hình cơ hội đầu tư trên các lĩnh vực khác nhau. Qua các bước phân tích tỉ mỉ và sử dụng các kỹ thuật EDA, chúng ta đã có cái nhìn tổng quan và sâu sắc hơn về cấu trúc và đặc điểm của thị trường, từ đó xác định :\n",
    "+ Loại hình đầu tư phù hợp nhất với số liệu là loại hình 'Venture' \n",
    "+ Quốc gia có số lượng và số tiền đầu tư nhiều nhất là Mỹ, là quốc gia phù hợp để đầu tư nhất dựa trên chiến lược được đưa ra.\n",
    "+ Những lĩnh vực được đầu tư nhiều nhất phù hợp để phát triển các cơ hội đầu tư tiềm năng đó là các lĩnh vực 'Others', 'Cleantech/Semiconductors' và 'Social, Finance, Analytics and Advertising'"
   ]
  }
 ],
 "metadata": {
  "colab": {
   "provenance": []
  },
  "kernelspec": {
   "display_name": "Python 3 (ipykernel)",
   "language": "python",
   "name": "python3"
  },
  "language_info": {
   "codemirror_mode": {
    "name": "ipython",
    "version": 3
   },
   "file_extension": ".py",
   "mimetype": "text/x-python",
   "name": "python",
   "nbconvert_exporter": "python",
   "pygments_lexer": "ipython3",
   "version": "3.11.2"
  }
 },
 "nbformat": 4,
 "nbformat_minor": 1
}
